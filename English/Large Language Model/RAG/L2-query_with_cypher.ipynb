{
 "cells": [
  {
   "cell_type": "markdown",
   "id": "0151deab-ec4e-4738-b9b0-fec2424b2da3",
   "metadata": {},
   "source": [
    "# Lesson 2: Querying Knowledge Graphs with Cypher"
   ]
  },
  {
   "cell_type": "markdown",
   "id": "7dc06c11-a750-4c86-95bb-0cfde30a2ecb",
   "metadata": {},
   "source": [
    "<p style=\"background-color:#fd4a6180; padding:15px; margin-left:20px\"> <b>Note:</b> This notebook takes about 30 seconds to be ready to use. Please wait until the \"Kernel starting, please wait...\" message clears from the top of the notebook before running any cells. You may start the video while you wait.</p>\n"
   ]
  },
  {
   "cell_type": "markdown",
   "id": "74b00a43-df0b-4ead-8de6-2365e8a26f53",
   "metadata": {},
   "source": [
    "### Import packages and set up Neo4"
   ]
  },
  {
   "cell_type": "code",
   "execution_count": 1,
   "id": "bc780563-88e7-4c75-92c7-eb34def44a9f",
   "metadata": {
    "height": 149
   },
   "outputs": [],
   "source": [
    "from dotenv import load_dotenv\n",
    "import os\n",
    "\n",
    "from langchain_community.graphs import Neo4jGraph\n",
    "\n",
    "# Warning control\n",
    "import warnings\n",
    "warnings.filterwarnings(\"ignore\")"
   ]
  },
  {
   "cell_type": "code",
   "execution_count": 2,
   "id": "186948fd-da5e-49d5-abf4-ad21aed3271f",
   "metadata": {
    "height": 98
   },
   "outputs": [],
   "source": [
    "load_dotenv('.env', override=True)\n",
    "NEO4J_URI = os.getenv('NEO4J_URI')\n",
    "NEO4J_USERNAME = os.getenv('NEO4J_USERNAME')\n",
    "NEO4J_PASSWORD = os.getenv('NEO4J_PASSWORD')\n",
    "NEO4J_DATABASE = os.getenv('NEO4J_DATABASE')"
   ]
  },
  {
   "cell_type": "markdown",
   "id": "7a8affe7-9424-47d4-97c7-0a675fc2398f",
   "metadata": {},
   "source": [
    "- Initialize a knowledge graph instance using LangChain's Neo4j integration"
   ]
  },
  {
   "cell_type": "code",
   "execution_count": 3,
   "id": "a5c03340-9078-42b2-9e0a-2dc8495b818f",
   "metadata": {
    "height": 64
   },
   "outputs": [],
   "source": [
    "kg = Neo4jGraph(\n",
    "    url=NEO4J_URI, username=NEO4J_USERNAME, password=NEO4J_PASSWORD, database=NEO4J_DATABASE\n",
    ")"
   ]
  },
  {
   "cell_type": "markdown",
   "id": "a703052f-c74e-4933-8e62-7e3ec9b12986",
   "metadata": {},
   "source": [
    "### Querying the movie knowledge graph \n",
    "- Match all nodes in the graph"
   ]
  },
  {
   "cell_type": "code",
   "execution_count": 4,
   "id": "b12cfece-6188-4fa4-8ba6-f0eff39c6546",
   "metadata": {
    "height": 81,
    "scrolled": true
   },
   "outputs": [],
   "source": [
    "cypher = \"\"\"\n",
    "  MATCH (n) \n",
    "  RETURN count(n)\n",
    "  \"\"\""
   ]
  },
  {
   "cell_type": "code",
   "execution_count": 5,
   "id": "edef9911-c436-4159-ae6b-412557448b94",
   "metadata": {
    "height": 47,
    "scrolled": true
   },
   "outputs": [
    {
     "data": {
      "text/plain": [
       "[{'count(n)': 171}]"
      ]
     },
     "execution_count": 5,
     "metadata": {},
     "output_type": "execute_result"
    }
   ],
   "source": [
    "result = kg.query(cypher)\n",
    "result"
   ]
  },
  {
   "cell_type": "code",
   "execution_count": 6,
   "id": "751a9532-114d-4f72-8956-da41aa7eae8d",
   "metadata": {
    "height": 81
   },
   "outputs": [],
   "source": [
    "cypher = \"\"\"\n",
    "  MATCH (n) \n",
    "  RETURN count(n) AS numberOfNodes\n",
    "  \"\"\""
   ]
  },
  {
   "cell_type": "code",
   "execution_count": 8,
   "id": "4fd44fea-11ab-4828-b475-71bc450ee900",
   "metadata": {
    "height": 47
   },
   "outputs": [
    {
     "data": {
      "text/plain": [
       "[{'numberOfNodes': 171}]"
      ]
     },
     "execution_count": 8,
     "metadata": {},
     "output_type": "execute_result"
    }
   ],
   "source": [
    "result = kg.query(cypher)\n",
    "result"
   ]
  },
  {
   "cell_type": "code",
   "execution_count": 9,
   "id": "4ae04daa-bc4c-42ca-864a-79b3915a234e",
   "metadata": {
    "height": 30
   },
   "outputs": [
    {
     "name": "stdout",
     "output_type": "stream",
     "text": [
      "There are 171 nodes in this graph.\n"
     ]
    }
   ],
   "source": [
    "print(f\"There are {result[0]['numberOfNodes']} nodes in this graph.\")"
   ]
  },
  {
   "cell_type": "markdown",
   "id": "ef33d57e-7f3a-4d66-b4d0-325973604906",
   "metadata": {},
   "source": [
    "- Match only the `Movie` nodes by specifying the node label"
   ]
  },
  {
   "cell_type": "code",
   "execution_count": 10,
   "id": "7ebd1092-e6d4-4112-aac9-ce2af1eaa737",
   "metadata": {
    "height": 98
   },
   "outputs": [
    {
     "data": {
      "text/plain": [
       "[{'numberOfMovies': 38}]"
      ]
     },
     "execution_count": 10,
     "metadata": {},
     "output_type": "execute_result"
    }
   ],
   "source": [
    "cypher = \"\"\"\n",
    "  MATCH (n:Movie) \n",
    "  RETURN count(n) AS numberOfMovies\n",
    "  \"\"\"\n",
    "kg.query(cypher)"
   ]
  },
  {
   "cell_type": "markdown",
   "id": "78ca792e-831f-4f1a-b728-92928d41e9b6",
   "metadata": {},
   "source": [
    "- Change the variable name in the node pattern match for improved readability"
   ]
  },
  {
   "cell_type": "code",
   "execution_count": 11,
   "id": "26b1ed1f-c780-4de8-8c96-5594bc8b63af",
   "metadata": {
    "height": 98
   },
   "outputs": [
    {
     "data": {
      "text/plain": [
       "[{'numberOfMovies': 38}]"
      ]
     },
     "execution_count": 11,
     "metadata": {},
     "output_type": "execute_result"
    }
   ],
   "source": [
    "cypher = \"\"\"\n",
    "  MATCH (m:Movie) \n",
    "  RETURN count(m) AS numberOfMovies\n",
    "  \"\"\"\n",
    "kg.query(cypher)"
   ]
  },
  {
   "cell_type": "markdown",
   "id": "b0534a64-f4c0-4e22-a79d-cce5ef595aa3",
   "metadata": {},
   "source": [
    "- Match only the `Person` nodes"
   ]
  },
  {
   "cell_type": "code",
   "execution_count": 12,
   "id": "5b7d6465-19a7-4f0c-b2a3-f32fd5991c46",
   "metadata": {
    "height": 98,
    "scrolled": true
   },
   "outputs": [
    {
     "data": {
      "text/plain": [
       "[{'numberOfPeople': 133}]"
      ]
     },
     "execution_count": 12,
     "metadata": {},
     "output_type": "execute_result"
    }
   ],
   "source": [
    "cypher = \"\"\"\n",
    "  MATCH (people:Person) \n",
    "  RETURN count(people) AS numberOfPeople\n",
    "  \"\"\"\n",
    "kg.query(cypher)"
   ]
  },
  {
   "cell_type": "markdown",
   "id": "209a950f-3335-4a47-801c-53a821529cc7",
   "metadata": {},
   "source": [
    "- Match a single person by specifying the value of the `name` property on the `Person` node"
   ]
  },
  {
   "cell_type": "code",
   "execution_count": 13,
   "id": "1c1f5e93-39dc-4585-ba3a-2cd492cbf665",
   "metadata": {
    "height": 98
   },
   "outputs": [
    {
     "data": {
      "text/plain": [
       "[{'tom': {'born': 1956, 'name': 'Tom Hanks'}}]"
      ]
     },
     "execution_count": 13,
     "metadata": {},
     "output_type": "execute_result"
    }
   ],
   "source": [
    "cypher = \"\"\"\n",
    "  MATCH (tom:Person {name:\"Tom Hanks\"}) \n",
    "  RETURN tom\n",
    "  \"\"\"\n",
    "kg.query(cypher)"
   ]
  },
  {
   "cell_type": "code",
   "execution_count": 15,
   "id": "52a6891c",
   "metadata": {
    "height": 98
   },
   "outputs": [
    {
     "data": {
      "text/plain": [
       "[{'p': {'born': 1964, 'name': 'Keanu Reeves'}},\n",
       " {'p': {'born': 1967, 'name': 'Carrie-Anne Moss'}},\n",
       " {'p': {'born': 1961, 'name': 'Laurence Fishburne'}},\n",
       " {'p': {'born': 1960, 'name': 'Hugo Weaving'}},\n",
       " {'p': {'born': 1967, 'name': 'Lilly Wachowski'}},\n",
       " {'p': {'born': 1965, 'name': 'Lana Wachowski'}},\n",
       " {'p': {'born': 1952, 'name': 'Joel Silver'}},\n",
       " {'p': {'born': 1978, 'name': 'Emil Eifrem'}},\n",
       " {'p': {'born': 1975, 'name': 'Charlize Theron'}},\n",
       " {'p': {'born': 1940, 'name': 'Al Pacino'}},\n",
       " {'p': {'born': 1944, 'name': 'Taylor Hackford'}},\n",
       " {'p': {'born': 1962, 'name': 'Tom Cruise'}},\n",
       " {'p': {'born': 1937, 'name': 'Jack Nicholson'}},\n",
       " {'p': {'born': 1962, 'name': 'Demi Moore'}},\n",
       " {'p': {'born': 1958, 'name': 'Kevin Bacon'}},\n",
       " {'p': {'born': 1966, 'name': 'Kiefer Sutherland'}},\n",
       " {'p': {'born': 1971, 'name': 'Noah Wyle'}},\n",
       " {'p': {'born': 1968, 'name': 'Cuba Gooding Jr.'}},\n",
       " {'p': {'born': 1957, 'name': 'Kevin Pollak'}},\n",
       " {'p': {'born': 1943, 'name': 'J.T. Walsh'}},\n",
       " {'p': {'born': 1967, 'name': 'James Marshall'}},\n",
       " {'p': {'born': 1948, 'name': 'Christopher Guest'}},\n",
       " {'p': {'born': 1947, 'name': 'Rob Reiner'}},\n",
       " {'p': {'born': 1961, 'name': 'Aaron Sorkin'}},\n",
       " {'p': {'born': 1957, 'name': 'Kelly McGillis'}},\n",
       " {'p': {'born': 1959, 'name': 'Val Kilmer'}},\n",
       " {'p': {'born': 1962, 'name': 'Anthony Edwards'}},\n",
       " {'p': {'born': 1933, 'name': 'Tom Skerritt'}},\n",
       " {'p': {'born': 1961, 'name': 'Meg Ryan'}},\n",
       " {'p': {'born': 1944, 'name': 'Tony Scott'}},\n",
       " {'p': {'born': 1941, 'name': 'Jim Cash'}},\n",
       " {'p': {'born': 1969, 'name': 'Renee Zellweger'}},\n",
       " {'p': {'born': 1962, 'name': 'Kelly Preston'}},\n",
       " {'p': {'born': 1974, 'name': \"Jerry O'Connell\"}},\n",
       " {'p': {'born': 1970, 'name': 'Jay Mohr'}},\n",
       " {'p': {'born': 1961, 'name': 'Bonnie Hunt'}},\n",
       " {'p': {'born': 1971, 'name': 'Regina King'}},\n",
       " {'p': {'born': 1996, 'name': 'Jonathan Lipnicki'}},\n",
       " {'p': {'born': 1957, 'name': 'Cameron Crowe'}},\n",
       " {'p': {'born': 1970, 'name': 'River Phoenix'}},\n",
       " {'p': {'born': 1971, 'name': 'Corey Feldman'}},\n",
       " {'p': {'born': 1972, 'name': 'Wil Wheaton'}},\n",
       " {'p': {'born': 1966, 'name': 'John Cusack'}},\n",
       " {'p': {'born': 1942, 'name': 'Marshall Bell'}},\n",
       " {'p': {'born': 1963, 'name': 'Helen Hunt'}},\n",
       " {'p': {'born': 1963, 'name': 'Greg Kinnear'}},\n",
       " {'p': {'born': 1940, 'name': 'James L. Brooks'}},\n",
       " {'p': {'born': 1960, 'name': 'Annabella Sciorra'}},\n",
       " {'p': {'born': 1929, 'name': 'Max von Sydow'}},\n",
       " {'p': {'born': 1942, 'name': 'Werner Herzog'}},\n",
       " {'p': {'born': 1951, 'name': 'Robin Williams'}},\n",
       " {'p': {'born': 1956, 'name': 'Vincent Ward'}},\n",
       " {'p': {'born': 1970, 'name': 'Ethan Hawke'}},\n",
       " {'p': {'born': 1971, 'name': 'Rick Yune'}},\n",
       " {'p': {'born': 1940, 'name': 'James Cromwell'}},\n",
       " {'p': {'born': 1953, 'name': 'Scott Hicks'}},\n",
       " {'p': {'born': 1968, 'name': 'Parker Posey'}},\n",
       " {'p': {'born': 1973, 'name': 'Dave Chappelle'}},\n",
       " {'p': {'born': 1967, 'name': 'Steve Zahn'}},\n",
       " {'p': {'born': 1956, 'name': 'Tom Hanks'}},\n",
       " {'p': {'born': 1941, 'name': 'Nora Ephron'}},\n",
       " {'p': {'born': 1956, 'name': 'Rita Wilson'}},\n",
       " {'p': {'born': 1953, 'name': 'Bill Pullman'}},\n",
       " {'p': {'born': 1949, 'name': 'Victor Garber'}},\n",
       " {'p': {'born': 1962, 'name': \"Rosie O'Donnell\"}},\n",
       " {'p': {'born': 1950, 'name': 'John Patrick Stanley'}},\n",
       " {'p': {'born': 1956, 'name': 'Nathan Lane'}},\n",
       " {'p': {'born': 1948, 'name': 'Billy Crystal'}},\n",
       " {'p': {'born': 1956, 'name': 'Carrie Fisher'}},\n",
       " {'p': {'born': 1949, 'name': 'Bruno Kirby'}},\n",
       " {'p': {'born': 1977, 'name': 'Liv Tyler'}},\n",
       " {'p': {'born': 1970, 'name': 'Brooke Langton'}},\n",
       " {'p': {'born': 1930, 'name': 'Gene Hackman'}},\n",
       " {'p': {'born': 1968, 'name': 'Orlando Jones'}},\n",
       " {'p': {'born': 1950, 'name': 'Howard Deutch'}},\n",
       " {'p': {'born': 1974, 'name': 'Christian Bale'}},\n",
       " {'p': {'born': 1954, 'name': 'Zach Grenier'}},\n",
       " {'p': {'born': 1931, 'name': 'Mike Nichols'}},\n",
       " {'p': {'born': 1930, 'name': 'Richard Harris'}},\n",
       " {'p': {'born': 1930, 'name': 'Clint Eastwood'}},\n",
       " {'p': {'born': 1947, 'name': 'Takeshi Kitano'}},\n",
       " {'p': {'born': 1968, 'name': 'Dina Meyer'}},\n",
       " {'p': {'born': 1958, 'name': 'Ice-T'}},\n",
       " {'p': {'born': 1953, 'name': 'Robert Longo'}},\n",
       " {'p': {'born': 1966, 'name': 'Halle Berry'}},\n",
       " {'p': {'born': 1949, 'name': 'Jim Broadbent'}},\n",
       " {'p': {'born': 1965, 'name': 'Tom Tykwer'}},\n",
       " {'p': {'born': 1969, 'name': 'David Mitchell'}},\n",
       " {'p': {'born': 1961, 'name': 'Stefan Arndt'}},\n",
       " {'p': {'born': 1939, 'name': 'Ian McKellen'}},\n",
       " {'p': {'born': 1976, 'name': 'Audrey Tautou'}},\n",
       " {'p': {'born': 1971, 'name': 'Paul Bettany'}},\n",
       " {'p': {'born': 1954, 'name': 'Ron Howard'}},\n",
       " {'p': {'born': 1981, 'name': 'Natalie Portman'}},\n",
       " {'p': {'born': 1946, 'name': 'Stephen Rea'}},\n",
       " {'p': {'born': 1940, 'name': 'John Hurt'}},\n",
       " {'p': {'born': 1967, 'name': 'Ben Miles'}},\n",
       " {'p': {'born': 1985, 'name': 'Emile Hirsch'}},\n",
       " {'p': {'born': 1960, 'name': 'John Goodman'}},\n",
       " {'p': {'born': 1946, 'name': 'Susan Sarandon'}},\n",
       " {'p': {'born': 1966, 'name': 'Matthew Fox'}},\n",
       " {'p': {'born': 1980, 'name': 'Christina Ricci'}},\n",
       " {'p': {'born': 1982, 'name': 'Rain'}},\n",
       " {'p': {'name': 'Naomie Harris'}},\n",
       " {'p': {'born': 1957, 'name': 'Michael Clarke Duncan'}},\n",
       " {'p': {'born': 1953, 'name': 'David Morse'}},\n",
       " {'p': {'born': 1968, 'name': 'Sam Rockwell'}},\n",
       " {'p': {'born': 1955, 'name': 'Gary Sinise'}},\n",
       " {'p': {'born': 1959, 'name': 'Patricia Clarkson'}},\n",
       " {'p': {'born': 1959, 'name': 'Frank Darabont'}},\n",
       " {'p': {'born': 1938, 'name': 'Frank Langella'}},\n",
       " {'p': {'born': 1969, 'name': 'Michael Sheen'}},\n",
       " {'p': {'born': 1960, 'name': 'Oliver Platt'}},\n",
       " {'p': {'born': 1944, 'name': 'Danny DeVito'}},\n",
       " {'p': {'born': 1965, 'name': 'John C. Reilly'}},\n",
       " {'p': {'born': 1950, 'name': 'Ed Harris'}},\n",
       " {'p': {'born': 1955, 'name': 'Bill Paxton'}},\n",
       " {'p': {'born': 1967, 'name': 'Philip Seymour Hoffman'}},\n",
       " {'p': {'born': 1943, 'name': 'Jan de Bont'}},\n",
       " {'p': {'born': 1951, 'name': 'Robert Zemeckis'}},\n",
       " {'p': {'born': 1932, 'name': 'Milos Forman'}},\n",
       " {'p': {'born': 1946, 'name': 'Diane Keaton'}},\n",
       " {'p': {'born': 1949, 'name': 'Nancy Meyers'}},\n",
       " {'p': {'born': 1958, 'name': 'Chris Columbus'}},\n",
       " {'p': {'born': 1967, 'name': 'Julia Roberts'}},\n",
       " {'p': {'born': 1954, 'name': 'Madonna'}},\n",
       " {'p': {'born': 1956, 'name': 'Geena Davis'}},\n",
       " {'p': {'born': 1963, 'name': 'Lori Petty'}},\n",
       " {'p': {'born': 1943, 'name': 'Penny Marshall'}},\n",
       " {'p': {'name': 'Paul Blythe'}},\n",
       " {'p': {'name': 'Angela Scope'}},\n",
       " {'p': {'name': 'Jessica Thompson'}},\n",
       " {'p': {'name': 'James Thompson'}}]"
      ]
     },
     "execution_count": 15,
     "metadata": {},
     "output_type": "execute_result"
    }
   ],
   "source": [
    "cypher = \"\"\"\n",
    "  MATCH (p:Person) \n",
    "  RETURN p\n",
    "  \"\"\"\n",
    "kg.query(cypher)"
   ]
  },
  {
   "cell_type": "markdown",
   "id": "936ee283-90ba-4ada-92b2-dd7c6bccfdc9",
   "metadata": {},
   "source": [
    "- Match a single `Movie` by specifying the value of the `title` property"
   ]
  },
  {
   "cell_type": "code",
   "execution_count": 14,
   "id": "d952bf0c-d2c0-4b64-86b5-29e2521f543e",
   "metadata": {
    "height": 98
   },
   "outputs": [
    {
     "data": {
      "text/plain": [
       "[{'cloudAtlas': {'tagline': 'Everything is connected',\n",
       "   'title': 'Cloud Atlas',\n",
       "   'released': 2012}}]"
      ]
     },
     "execution_count": 14,
     "metadata": {},
     "output_type": "execute_result"
    }
   ],
   "source": [
    "cypher = \"\"\"\n",
    "  MATCH (cloudAtlas:Movie {title:\"Cloud Atlas\"}) \n",
    "  RETURN cloudAtlas\n",
    "  \"\"\"\n",
    "kg.query(cypher)"
   ]
  },
  {
   "cell_type": "code",
   "execution_count": 16,
   "id": "6e1e5f68",
   "metadata": {
    "height": 98
   },
   "outputs": [
    {
     "data": {
      "text/plain": [
       "[{'m': {'tagline': 'Welcome to the Real World',\n",
       "   'title': 'The Matrix',\n",
       "   'released': 1999}},\n",
       " {'m': {'tagline': 'Free your mind',\n",
       "   'title': 'The Matrix Reloaded',\n",
       "   'released': 2003}},\n",
       " {'m': {'tagline': 'Everything that has a beginning has an end',\n",
       "   'title': 'The Matrix Revolutions',\n",
       "   'released': 2003}},\n",
       " {'m': {'tagline': 'Evil has its winning ways',\n",
       "   'title': \"The Devil's Advocate\",\n",
       "   'released': 1997}},\n",
       " {'m': {'tagline': \"In the heart of the nation's capital, in a courthouse of the U.S. government, one man will stop at nothing to keep his honor, and one will stop at nothing to find the truth.\",\n",
       "   'title': 'A Few Good Men',\n",
       "   'released': 1992}},\n",
       " {'m': {'tagline': 'I feel the need, the need for speed.',\n",
       "   'title': 'Top Gun',\n",
       "   'released': 1986}},\n",
       " {'m': {'tagline': 'The rest of his life begins now.',\n",
       "   'title': 'Jerry Maguire',\n",
       "   'released': 2000}},\n",
       " {'m': {'tagline': \"For some, it's the last real taste of innocence, and the first real taste of life. But for everyone, it's the time that memories are made of.\",\n",
       "   'title': 'Stand By Me',\n",
       "   'released': 1986}},\n",
       " {'m': {'tagline': 'A comedy from the heart that goes for the throat.',\n",
       "   'title': 'As Good as It Gets',\n",
       "   'released': 1997}},\n",
       " {'m': {'tagline': 'After life there is more. The end is just the beginning.',\n",
       "   'title': 'What Dreams May Come',\n",
       "   'released': 1998}},\n",
       " {'m': {'tagline': 'First loves last. Forever.',\n",
       "   'title': 'Snow Falling on Cedars',\n",
       "   'released': 1999}},\n",
       " {'m': {'tagline': 'At odds in life... in love on-line.',\n",
       "   'title': \"You've Got Mail\",\n",
       "   'released': 1998}},\n",
       " {'m': {'tagline': 'What if someone you never met, someone you never saw, someone you never knew was the only someone for you?',\n",
       "   'title': 'Sleepless in Seattle',\n",
       "   'released': 1993}},\n",
       " {'m': {'tagline': 'A story of love, lava and burning desire.',\n",
       "   'title': 'Joe Versus the Volcano',\n",
       "   'released': 1990}},\n",
       " {'m': {'tagline': 'Can two friends sleep together and still love each other in the morning?',\n",
       "   'title': 'When Harry Met Sally',\n",
       "   'released': 1998}},\n",
       " {'m': {'tagline': 'In every life there comes a time when that thing you dream becomes that thing you do',\n",
       "   'title': 'That Thing You Do',\n",
       "   'released': 1996}},\n",
       " {'m': {'tagline': 'Pain heals, Chicks dig scars... Glory lasts forever',\n",
       "   'title': 'The Replacements',\n",
       "   'released': 2000}},\n",
       " {'m': {'tagline': \"Based on the extraordinary true story of one man's fight for freedom\",\n",
       "   'title': 'RescueDawn',\n",
       "   'released': 2006}},\n",
       " {'m': {'tagline': 'Come as you are',\n",
       "   'title': 'The Birdcage',\n",
       "   'released': 1996}},\n",
       " {'m': {'tagline': \"It's a hell of a thing, killing a man\",\n",
       "   'title': 'Unforgiven',\n",
       "   'released': 1992}},\n",
       " {'m': {'tagline': 'The hottest data on earth. In the coolest head in town',\n",
       "   'title': 'Johnny Mnemonic',\n",
       "   'released': 1995}},\n",
       " {'m': {'tagline': 'Everything is connected',\n",
       "   'title': 'Cloud Atlas',\n",
       "   'released': 2012}},\n",
       " {'m': {'tagline': 'Break The Codes',\n",
       "   'title': 'The Da Vinci Code',\n",
       "   'released': 2006}},\n",
       " {'m': {'tagline': 'Freedom! Forever!',\n",
       "   'title': 'V for Vendetta',\n",
       "   'released': 2006}},\n",
       " {'m': {'tagline': 'Speed has no limits',\n",
       "   'title': 'Speed Racer',\n",
       "   'released': 2008}},\n",
       " {'m': {'tagline': 'Prepare to enter a secret world of assassins',\n",
       "   'title': 'Ninja Assassin',\n",
       "   'released': 2009}},\n",
       " {'m': {'tagline': \"Walk a mile you'll never forget.\",\n",
       "   'title': 'The Green Mile',\n",
       "   'released': 1999}},\n",
       " {'m': {'tagline': '400 million people were waiting for the truth.',\n",
       "   'title': 'Frost/Nixon',\n",
       "   'released': 2008}},\n",
       " {'m': {'tagline': \"He didn't want law. He wanted justice.\",\n",
       "   'title': 'Hoffa',\n",
       "   'released': 1992}},\n",
       " {'m': {'tagline': 'Houston, we have a problem.',\n",
       "   'title': 'Apollo 13',\n",
       "   'released': 1995}},\n",
       " {'m': {'tagline': \"Don't Breathe. Don't Look Back.\",\n",
       "   'title': 'Twister',\n",
       "   'released': 1996}},\n",
       " {'m': {'tagline': 'At the edge of the world, his journey begins.',\n",
       "   'title': 'Cast Away',\n",
       "   'released': 2000}},\n",
       " {'m': {'tagline': \"If he's crazy, what does that make you?\",\n",
       "   'title': \"One Flew Over the Cuckoo's Nest\",\n",
       "   'released': 1975}},\n",
       " {'m': {'title': \"Something's Gotta Give\", 'released': 2003}},\n",
       " {'m': {'tagline': \"One robot's 200 year journey to become an ordinary man.\",\n",
       "   'title': 'Bicentennial Man',\n",
       "   'released': 1999}},\n",
       " {'m': {'tagline': \"A stiff drink. A little mascara. A lot of nerve. Who said they couldn't bring down the Soviet empire.\",\n",
       "   'title': \"Charlie Wilson's War\",\n",
       "   'released': 2007}},\n",
       " {'m': {'tagline': 'This Holiday Season... Believe',\n",
       "   'title': 'The Polar Express',\n",
       "   'released': 2004}},\n",
       " {'m': {'tagline': 'Once in a lifetime you get a chance to do something different.',\n",
       "   'title': 'A League of Their Own',\n",
       "   'released': 1992}}]"
      ]
     },
     "execution_count": 16,
     "metadata": {},
     "output_type": "execute_result"
    }
   ],
   "source": [
    "cypher = \"\"\"\n",
    "  MATCH (m:Movie ) \n",
    "  RETURN m\n",
    "  \"\"\"\n",
    "kg.query(cypher)"
   ]
  },
  {
   "cell_type": "markdown",
   "id": "3f6debaf-f237-4b75-b18c-5ff56ccca780",
   "metadata": {},
   "source": [
    "- Return only the `released` property of the matched `Movie` node"
   ]
  },
  {
   "cell_type": "code",
   "execution_count": 17,
   "id": "2c9d8fc2-4fc7-4e85-8ced-e3f0236e6b2f",
   "metadata": {
    "height": 98
   },
   "outputs": [
    {
     "data": {
      "text/plain": [
       "[{'cloudAtlas.released': 2012}]"
      ]
     },
     "execution_count": 17,
     "metadata": {},
     "output_type": "execute_result"
    }
   ],
   "source": [
    "cypher = \"\"\"\n",
    "  MATCH (cloudAtlas:Movie {title:\"Cloud Atlas\"}) \n",
    "  RETURN cloudAtlas.released\n",
    "  \"\"\"\n",
    "kg.query(cypher)"
   ]
  },
  {
   "cell_type": "markdown",
   "id": "00e73a39-882c-4060-926e-deb484a4358f",
   "metadata": {},
   "source": [
    "- Return two properties"
   ]
  },
  {
   "cell_type": "code",
   "execution_count": 18,
   "id": "64ad1276-c1cc-49d6-b7e9-d7126a37fabc",
   "metadata": {
    "height": 98
   },
   "outputs": [
    {
     "data": {
      "text/plain": [
       "[{'cloudAtlas.released': 2012,\n",
       "  'cloudAtlas.tagline': 'Everything is connected'}]"
      ]
     },
     "execution_count": 18,
     "metadata": {},
     "output_type": "execute_result"
    }
   ],
   "source": [
    "cypher = \"\"\"\n",
    "  MATCH (cloudAtlas:Movie {title:\"Cloud Atlas\"}) \n",
    "  RETURN cloudAtlas.released, cloudAtlas.tagline\n",
    "  \"\"\"\n",
    "kg.query(cypher)"
   ]
  },
  {
   "cell_type": "markdown",
   "id": "689be729-367a-408b-b4e5-43d2a3d69744",
   "metadata": {},
   "source": [
    "### Cypher patterns with conditional matching"
   ]
  },
  {
   "cell_type": "code",
   "execution_count": 19,
   "id": "fc7b4d4d-764e-4b83-ae7c-0f7717de85f2",
   "metadata": {
    "height": 132
   },
   "outputs": [],
   "source": [
    "cypher = \"\"\"\n",
    "  MATCH (nineties:Movie) \n",
    "  WHERE nineties.released >= 1990 \n",
    "    AND nineties.released < 2000 \n",
    "  RETURN nineties.title\n",
    "  \"\"\"\n"
   ]
  },
  {
   "cell_type": "code",
   "execution_count": 20,
   "id": "c52524e8-c4b2-443a-9e4b-01c50f0be352",
   "metadata": {
    "height": 30
   },
   "outputs": [
    {
     "data": {
      "text/plain": [
       "[{'nineties.title': 'The Matrix'},\n",
       " {'nineties.title': \"The Devil's Advocate\"},\n",
       " {'nineties.title': 'A Few Good Men'},\n",
       " {'nineties.title': 'As Good as It Gets'},\n",
       " {'nineties.title': 'What Dreams May Come'},\n",
       " {'nineties.title': 'Snow Falling on Cedars'},\n",
       " {'nineties.title': \"You've Got Mail\"},\n",
       " {'nineties.title': 'Sleepless in Seattle'},\n",
       " {'nineties.title': 'Joe Versus the Volcano'},\n",
       " {'nineties.title': 'When Harry Met Sally'},\n",
       " {'nineties.title': 'That Thing You Do'},\n",
       " {'nineties.title': 'The Birdcage'},\n",
       " {'nineties.title': 'Unforgiven'},\n",
       " {'nineties.title': 'Johnny Mnemonic'},\n",
       " {'nineties.title': 'The Green Mile'},\n",
       " {'nineties.title': 'Hoffa'},\n",
       " {'nineties.title': 'Apollo 13'},\n",
       " {'nineties.title': 'Twister'},\n",
       " {'nineties.title': 'Bicentennial Man'},\n",
       " {'nineties.title': 'A League of Their Own'}]"
      ]
     },
     "execution_count": 20,
     "metadata": {},
     "output_type": "execute_result"
    }
   ],
   "source": [
    "kg.query(cypher)"
   ]
  },
  {
   "cell_type": "markdown",
   "id": "d176b9d2-ec33-423a-b3de-e9bc87810fe7",
   "metadata": {},
   "source": [
    "### Pattern matching with multiple nodes"
   ]
  },
  {
   "cell_type": "code",
   "execution_count": 21,
   "id": "dd8ae45b-c131-4e39-a937-704855cbdd74",
   "metadata": {
    "height": 98
   },
   "outputs": [
    {
     "data": {
      "text/plain": [
       "[{'actor.name': 'Emil Eifrem', 'movie.title': 'The Matrix'},\n",
       " {'actor.name': 'Hugo Weaving', 'movie.title': 'The Matrix'},\n",
       " {'actor.name': 'Laurence Fishburne', 'movie.title': 'The Matrix'},\n",
       " {'actor.name': 'Carrie-Anne Moss', 'movie.title': 'The Matrix'},\n",
       " {'actor.name': 'Keanu Reeves', 'movie.title': 'The Matrix'},\n",
       " {'actor.name': 'Hugo Weaving', 'movie.title': 'The Matrix Reloaded'},\n",
       " {'actor.name': 'Laurence Fishburne', 'movie.title': 'The Matrix Reloaded'},\n",
       " {'actor.name': 'Carrie-Anne Moss', 'movie.title': 'The Matrix Reloaded'},\n",
       " {'actor.name': 'Keanu Reeves', 'movie.title': 'The Matrix Reloaded'},\n",
       " {'actor.name': 'Hugo Weaving', 'movie.title': 'The Matrix Revolutions'}]"
      ]
     },
     "execution_count": 21,
     "metadata": {},
     "output_type": "execute_result"
    }
   ],
   "source": [
    "cypher = \"\"\"\n",
    "  MATCH (actor:Person)-[:ACTED_IN]->(movie:Movie) \n",
    "  RETURN actor.name, movie.title LIMIT 10\n",
    "  \"\"\"\n",
    "kg.query(cypher)"
   ]
  },
  {
   "cell_type": "code",
   "execution_count": 22,
   "id": "e79dd7e8-a778-467e-b6d9-ba6af8eee5bf",
   "metadata": {
    "height": 98
   },
   "outputs": [
    {
     "data": {
      "text/plain": [
       "[{'tom.name': 'Tom Hanks', 'tomHanksMovies.title': 'Apollo 13'},\n",
       " {'tom.name': 'Tom Hanks', 'tomHanksMovies.title': \"You've Got Mail\"},\n",
       " {'tom.name': 'Tom Hanks', 'tomHanksMovies.title': 'A League of Their Own'},\n",
       " {'tom.name': 'Tom Hanks', 'tomHanksMovies.title': 'Joe Versus the Volcano'},\n",
       " {'tom.name': 'Tom Hanks', 'tomHanksMovies.title': 'That Thing You Do'},\n",
       " {'tom.name': 'Tom Hanks', 'tomHanksMovies.title': 'The Da Vinci Code'},\n",
       " {'tom.name': 'Tom Hanks', 'tomHanksMovies.title': 'Cloud Atlas'},\n",
       " {'tom.name': 'Tom Hanks', 'tomHanksMovies.title': 'Cast Away'},\n",
       " {'tom.name': 'Tom Hanks', 'tomHanksMovies.title': 'The Green Mile'},\n",
       " {'tom.name': 'Tom Hanks', 'tomHanksMovies.title': 'Sleepless in Seattle'},\n",
       " {'tom.name': 'Tom Hanks', 'tomHanksMovies.title': 'The Polar Express'},\n",
       " {'tom.name': 'Tom Hanks', 'tomHanksMovies.title': \"Charlie Wilson's War\"}]"
      ]
     },
     "execution_count": 22,
     "metadata": {},
     "output_type": "execute_result"
    }
   ],
   "source": [
    "cypher = \"\"\"\n",
    "  MATCH (tom:Person {name: \"Tom Hanks\"})-[:ACTED_IN]->(tomHanksMovies:Movie) \n",
    "  RETURN tom.name,tomHanksMovies.title\n",
    "  \"\"\"\n",
    "kg.query(cypher)"
   ]
  },
  {
   "cell_type": "code",
   "execution_count": 23,
   "id": "004147cc-14f4-43eb-86ff-d22e11a1d0d2",
   "metadata": {
    "height": 98
   },
   "outputs": [
    {
     "data": {
      "text/plain": [
       "[{'coActors.name': 'Ed Harris', 'm.title': 'Apollo 13'},\n",
       " {'coActors.name': 'Gary Sinise', 'm.title': 'Apollo 13'},\n",
       " {'coActors.name': 'Kevin Bacon', 'm.title': 'Apollo 13'},\n",
       " {'coActors.name': 'Bill Paxton', 'm.title': 'Apollo 13'},\n",
       " {'coActors.name': 'Parker Posey', 'm.title': \"You've Got Mail\"},\n",
       " {'coActors.name': 'Greg Kinnear', 'm.title': \"You've Got Mail\"},\n",
       " {'coActors.name': 'Meg Ryan', 'm.title': \"You've Got Mail\"},\n",
       " {'coActors.name': 'Steve Zahn', 'm.title': \"You've Got Mail\"},\n",
       " {'coActors.name': 'Dave Chappelle', 'm.title': \"You've Got Mail\"},\n",
       " {'coActors.name': 'Madonna', 'm.title': 'A League of Their Own'},\n",
       " {'coActors.name': \"Rosie O'Donnell\", 'm.title': 'A League of Their Own'},\n",
       " {'coActors.name': 'Geena Davis', 'm.title': 'A League of Their Own'},\n",
       " {'coActors.name': 'Bill Paxton', 'm.title': 'A League of Their Own'},\n",
       " {'coActors.name': 'Lori Petty', 'm.title': 'A League of Their Own'},\n",
       " {'coActors.name': 'Nathan Lane', 'm.title': 'Joe Versus the Volcano'},\n",
       " {'coActors.name': 'Meg Ryan', 'm.title': 'Joe Versus the Volcano'},\n",
       " {'coActors.name': 'Liv Tyler', 'm.title': 'That Thing You Do'},\n",
       " {'coActors.name': 'Charlize Theron', 'm.title': 'That Thing You Do'},\n",
       " {'coActors.name': 'Ian McKellen', 'm.title': 'The Da Vinci Code'},\n",
       " {'coActors.name': 'Audrey Tautou', 'm.title': 'The Da Vinci Code'},\n",
       " {'coActors.name': 'Paul Bettany', 'm.title': 'The Da Vinci Code'},\n",
       " {'coActors.name': 'Jim Broadbent', 'm.title': 'Cloud Atlas'},\n",
       " {'coActors.name': 'Halle Berry', 'm.title': 'Cloud Atlas'},\n",
       " {'coActors.name': 'Hugo Weaving', 'm.title': 'Cloud Atlas'},\n",
       " {'coActors.name': 'Helen Hunt', 'm.title': 'Cast Away'},\n",
       " {'coActors.name': 'Sam Rockwell', 'm.title': 'The Green Mile'},\n",
       " {'coActors.name': 'Bonnie Hunt', 'm.title': 'The Green Mile'},\n",
       " {'coActors.name': 'Patricia Clarkson', 'm.title': 'The Green Mile'},\n",
       " {'coActors.name': 'James Cromwell', 'm.title': 'The Green Mile'},\n",
       " {'coActors.name': 'Michael Clarke Duncan', 'm.title': 'The Green Mile'},\n",
       " {'coActors.name': 'David Morse', 'm.title': 'The Green Mile'},\n",
       " {'coActors.name': 'Gary Sinise', 'm.title': 'The Green Mile'},\n",
       " {'coActors.name': 'Meg Ryan', 'm.title': 'Sleepless in Seattle'},\n",
       " {'coActors.name': 'Victor Garber', 'm.title': 'Sleepless in Seattle'},\n",
       " {'coActors.name': 'Bill Pullman', 'm.title': 'Sleepless in Seattle'},\n",
       " {'coActors.name': 'Rita Wilson', 'm.title': 'Sleepless in Seattle'},\n",
       " {'coActors.name': \"Rosie O'Donnell\", 'm.title': 'Sleepless in Seattle'},\n",
       " {'coActors.name': 'Julia Roberts', 'm.title': \"Charlie Wilson's War\"},\n",
       " {'coActors.name': 'Philip Seymour Hoffman',\n",
       "  'm.title': \"Charlie Wilson's War\"}]"
      ]
     },
     "execution_count": 23,
     "metadata": {},
     "output_type": "execute_result"
    }
   ],
   "source": [
    "cypher = \"\"\"\n",
    "  MATCH (tom:Person {name:\"Tom Hanks\"})-[:ACTED_IN]->(m)<-[:ACTED_IN]-(coActors) \n",
    "  RETURN coActors.name, m.title\n",
    "  \"\"\"\n",
    "kg.query(cypher)"
   ]
  },
  {
   "cell_type": "markdown",
   "id": "2ad3f683-d334-4c4e-b274-9789a70b9662",
   "metadata": {},
   "source": [
    "### Delete data from the graph"
   ]
  },
  {
   "cell_type": "code",
   "execution_count": 24,
   "id": "5064cab8-b5d6-4f1c-b5ef-f154f5c10b2b",
   "metadata": {
    "height": 98
   },
   "outputs": [
    {
     "data": {
      "text/plain": [
       "[{'emil.name': 'Emil Eifrem', 'movie.title': 'The Matrix'}]"
      ]
     },
     "execution_count": 24,
     "metadata": {},
     "output_type": "execute_result"
    }
   ],
   "source": [
    "cypher = \"\"\"\n",
    "MATCH (emil:Person {name:\"Emil Eifrem\"})-[actedIn:ACTED_IN]->(movie:Movie)\n",
    "RETURN emil.name, movie.title\n",
    "\"\"\"\n",
    "kg.query(cypher)"
   ]
  },
  {
   "cell_type": "code",
   "execution_count": 25,
   "id": "648d12d1-0966-46ff-ad77-080eae553c3a",
   "metadata": {
    "height": 98
   },
   "outputs": [
    {
     "data": {
      "text/plain": [
       "[]"
      ]
     },
     "execution_count": 25,
     "metadata": {},
     "output_type": "execute_result"
    }
   ],
   "source": [
    "cypher = \"\"\"\n",
    "MATCH (emil:Person {name:\"Emil Eifrem\"})-[actedIn:ACTED_IN]->(movie:Movie)\n",
    "DELETE actedIn\n",
    "\"\"\"\n",
    "kg.query(cypher)"
   ]
  },
  {
   "cell_type": "markdown",
   "id": "109de94e-3526-4dad-9a62-1beb6c5dad2d",
   "metadata": {},
   "source": [
    "### Adding data to the graph"
   ]
  },
  {
   "cell_type": "code",
   "execution_count": 26,
   "id": "ed1665da-b9ec-4b81-9e1f-de19af49d0d8",
   "metadata": {
    "height": 115
   },
   "outputs": [
    {
     "data": {
      "text/plain": [
       "[{'andreas': {'name': 'Andreas'}}]"
      ]
     },
     "execution_count": 26,
     "metadata": {},
     "output_type": "execute_result"
    }
   ],
   "source": [
    "cypher = \"\"\"\n",
    "CREATE (andreas:Person {name:\"Andreas\"})\n",
    "RETURN andreas\n",
    "\"\"\"\n",
    "\n",
    "kg.query(cypher)"
   ]
  },
  {
   "cell_type": "code",
   "execution_count": 27,
   "id": "1a0b9bb9-4491-45e2-9a4d-2306ea0a2bd8",
   "metadata": {
    "height": 115
   },
   "outputs": [
    {
     "data": {
      "text/plain": [
       "[{'andreas': {'name': 'Andreas'},\n",
       "  'hasRelationship': ({'name': 'Andreas'},\n",
       "   'WORKS_WITH',\n",
       "   {'born': 1978, 'name': 'Emil Eifrem'}),\n",
       "  'emil': {'born': 1978, 'name': 'Emil Eifrem'}}]"
      ]
     },
     "execution_count": 27,
     "metadata": {},
     "output_type": "execute_result"
    }
   ],
   "source": [
    "cypher = \"\"\"\n",
    "MATCH (andreas:Person {name:\"Andreas\"}), (emil:Person {name:\"Emil Eifrem\"})\n",
    "MERGE (andreas)-[hasRelationship:WORKS_WITH]->(emil)\n",
    "RETURN andreas, hasRelationship, emil\n",
    "\"\"\"\n",
    "kg.query(cypher)"
   ]
  }
 ],
 "metadata": {
  "kernelspec": {
   "display_name": "Python 3 (ipykernel)",
   "language": "python",
   "name": "python3"
  },
  "language_info": {
   "codemirror_mode": {
    "name": "ipython",
    "version": 3
   },
   "file_extension": ".py",
   "mimetype": "text/x-python",
   "name": "python",
   "nbconvert_exporter": "python",
   "pygments_lexer": "ipython3",
   "version": "3.11.9"
  }
 },
 "nbformat": 4,
 "nbformat_minor": 5
}
