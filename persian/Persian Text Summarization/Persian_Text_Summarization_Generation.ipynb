{
  "cells": [
    {
      "cell_type": "code",
      "execution_count": 1,
      "metadata": {
        "colab": {
          "base_uri": "https://localhost:8080/"
        },
        "id": "aWIZ8f9zI30J",
        "outputId": "dafc7265-7023-41f4-c7e9-a4a074649022"
      },
      "outputs": [
        {
          "output_type": "stream",
          "name": "stdout",
          "text": [
            "Requirement already satisfied: transformers[torch] in /usr/local/lib/python3.10/dist-packages (4.32.0)\n",
            "Requirement already satisfied: filelock in /usr/local/lib/python3.10/dist-packages (from transformers[torch]) (3.12.2)\n",
            "Requirement already satisfied: huggingface-hub<1.0,>=0.15.1 in /usr/local/lib/python3.10/dist-packages (from transformers[torch]) (0.16.4)\n",
            "Requirement already satisfied: numpy>=1.17 in /usr/local/lib/python3.10/dist-packages (from transformers[torch]) (1.25.2)\n",
            "Requirement already satisfied: packaging>=20.0 in /usr/local/lib/python3.10/dist-packages (from transformers[torch]) (23.1)\n",
            "Requirement already satisfied: pyyaml>=5.1 in /usr/local/lib/python3.10/dist-packages (from transformers[torch]) (6.0.1)\n",
            "Requirement already satisfied: regex!=2019.12.17 in /usr/local/lib/python3.10/dist-packages (from transformers[torch]) (2023.6.3)\n",
            "Requirement already satisfied: requests in /usr/local/lib/python3.10/dist-packages (from transformers[torch]) (2.31.0)\n",
            "Requirement already satisfied: tokenizers!=0.11.3,<0.14,>=0.11.1 in /usr/local/lib/python3.10/dist-packages (from transformers[torch]) (0.13.3)\n",
            "Requirement already satisfied: safetensors>=0.3.1 in /usr/local/lib/python3.10/dist-packages (from transformers[torch]) (0.3.3)\n",
            "Requirement already satisfied: tqdm>=4.27 in /usr/local/lib/python3.10/dist-packages (from transformers[torch]) (4.66.1)\n",
            "Requirement already satisfied: torch!=1.12.0,>=1.9 in /usr/local/lib/python3.10/dist-packages (from transformers[torch]) (2.0.1+cu118)\n",
            "Requirement already satisfied: accelerate>=0.20.3 in /usr/local/lib/python3.10/dist-packages (from transformers[torch]) (0.22.0)\n",
            "Requirement already satisfied: psutil in /usr/local/lib/python3.10/dist-packages (from accelerate>=0.20.3->transformers[torch]) (5.9.5)\n",
            "Requirement already satisfied: fsspec in /usr/local/lib/python3.10/dist-packages (from huggingface-hub<1.0,>=0.15.1->transformers[torch]) (2023.6.0)\n",
            "Requirement already satisfied: typing-extensions>=3.7.4.3 in /usr/local/lib/python3.10/dist-packages (from huggingface-hub<1.0,>=0.15.1->transformers[torch]) (4.7.1)\n",
            "Requirement already satisfied: sympy in /usr/local/lib/python3.10/dist-packages (from torch!=1.12.0,>=1.9->transformers[torch]) (1.12)\n",
            "Requirement already satisfied: networkx in /usr/local/lib/python3.10/dist-packages (from torch!=1.12.0,>=1.9->transformers[torch]) (3.1)\n",
            "Requirement already satisfied: jinja2 in /usr/local/lib/python3.10/dist-packages (from torch!=1.12.0,>=1.9->transformers[torch]) (3.1.2)\n",
            "Requirement already satisfied: triton==2.0.0 in /usr/local/lib/python3.10/dist-packages (from torch!=1.12.0,>=1.9->transformers[torch]) (2.0.0)\n",
            "Requirement already satisfied: cmake in /usr/local/lib/python3.10/dist-packages (from triton==2.0.0->torch!=1.12.0,>=1.9->transformers[torch]) (3.27.2)\n",
            "Requirement already satisfied: lit in /usr/local/lib/python3.10/dist-packages (from triton==2.0.0->torch!=1.12.0,>=1.9->transformers[torch]) (16.0.6)\n",
            "Requirement already satisfied: charset-normalizer<4,>=2 in /usr/local/lib/python3.10/dist-packages (from requests->transformers[torch]) (3.2.0)\n",
            "Requirement already satisfied: idna<4,>=2.5 in /usr/local/lib/python3.10/dist-packages (from requests->transformers[torch]) (3.4)\n",
            "Requirement already satisfied: urllib3<3,>=1.21.1 in /usr/local/lib/python3.10/dist-packages (from requests->transformers[torch]) (2.0.4)\n",
            "Requirement already satisfied: certifi>=2017.4.17 in /usr/local/lib/python3.10/dist-packages (from requests->transformers[torch]) (2023.7.22)\n",
            "Requirement already satisfied: MarkupSafe>=2.0 in /usr/local/lib/python3.10/dist-packages (from jinja2->torch!=1.12.0,>=1.9->transformers[torch]) (2.1.3)\n",
            "Requirement already satisfied: mpmath>=0.19 in /usr/local/lib/python3.10/dist-packages (from sympy->torch!=1.12.0,>=1.9->transformers[torch]) (1.3.0)\n"
          ]
        }
      ],
      "source": [
        "!pip install transformers[torch]"
      ]
    },
    {
      "cell_type": "code",
      "execution_count": 10,
      "metadata": {
        "id": "z51XM9ubJTw5"
      },
      "outputs": [],
      "source": [
        "!cp '/content/drive/MyDrive/persian_text_summary.zip' '/content'"
      ]
    },
    {
      "cell_type": "code",
      "execution_count": 11,
      "metadata": {
        "colab": {
          "base_uri": "https://localhost:8080/"
        },
        "id": "zEmVaHF9JgWg",
        "outputId": "c28b2448-1775-4a56-b2c9-3b508f487a1b"
      },
      "outputs": [
        {
          "output_type": "stream",
          "name": "stdout",
          "text": [
            "Archive:  /content/persian_text_summary.zip\n",
            "  inflating: persian_text_summary.csv  \n"
          ]
        }
      ],
      "source": [
        "!unzip '/content/persian_text_summary.zip'"
      ]
    },
    {
      "cell_type": "code",
      "execution_count": 3,
      "metadata": {
        "id": "ta02dV6yH_Ok"
      },
      "outputs": [],
      "source": [
        "import pandas as pd"
      ]
    },
    {
      "cell_type": "code",
      "execution_count": 4,
      "metadata": {
        "id": "lxYHjntRJrkH"
      },
      "outputs": [],
      "source": [
        "df=pd.read_csv('/content/persian_text_summary.csv').reset_index()"
      ]
    },
    {
      "cell_type": "code",
      "execution_count": 5,
      "metadata": {
        "id": "kb9TGWSJK0Rg"
      },
      "outputs": [],
      "source": [
        "df.drop(columns='Unnamed: 0',inplace=True)"
      ]
    },
    {
      "cell_type": "code",
      "execution_count": 6,
      "metadata": {
        "colab": {
          "base_uri": "https://localhost:8080/",
          "height": 206
        },
        "id": "h7VReUU0KgrQ",
        "outputId": "7a9d3602-a0e5-4099-969b-a1aab9e00413"
      },
      "outputs": [
        {
          "output_type": "execute_result",
          "data": {
            "text/plain": [
              "   index                                            article  \\\n",
              "0      0  به گزارش شانا، علی کاردر امروز (۲۷ دی ماه) در ...   \n",
              "1      1  به گزارش شانا به نقل از شرکت ملی صنایع پتروشیم...   \n",
              "2      2  به گزارش شانا به نقل از شرکت پالایش گاز شهید ه...   \n",
              "3      3  به گزارش خبرنگار ایمنا، سعید نظری در صفحه اینس...   \n",
              "4      4  به گزارش شانا، سیدباقر مرتضوی، مشاور وزیر نفت ...   \n",
              "\n",
              "                                             summary  \n",
              "0  مدیرعامل شرکت ملی نفت، عملکرد مدیریت امور بین‎...  \n",
              "1  سرپرست مدیریت برنامه‌ریزی و توسعه شرکت ملی صنا...  \n",
              "2  پالایشگاه گاز خانگیران با هدف معرفی گوگرد بنتو...  \n",
              "3  سخنگوی شورای شهر شیراز گفت: روند عمرانی و شهرس...  \n",
              "4  مشاور وزیر نفت و مدیرکل اچ اس یی و پدافند غیرع...  "
            ],
            "text/html": [
              "\n",
              "  <div id=\"df-dba0e61d-0402-410f-846c-b0cf2a2d28f8\" class=\"colab-df-container\">\n",
              "    <div>\n",
              "<style scoped>\n",
              "    .dataframe tbody tr th:only-of-type {\n",
              "        vertical-align: middle;\n",
              "    }\n",
              "\n",
              "    .dataframe tbody tr th {\n",
              "        vertical-align: top;\n",
              "    }\n",
              "\n",
              "    .dataframe thead th {\n",
              "        text-align: right;\n",
              "    }\n",
              "</style>\n",
              "<table border=\"1\" class=\"dataframe\">\n",
              "  <thead>\n",
              "    <tr style=\"text-align: right;\">\n",
              "      <th></th>\n",
              "      <th>index</th>\n",
              "      <th>article</th>\n",
              "      <th>summary</th>\n",
              "    </tr>\n",
              "  </thead>\n",
              "  <tbody>\n",
              "    <tr>\n",
              "      <th>0</th>\n",
              "      <td>0</td>\n",
              "      <td>به گزارش شانا، علی کاردر امروز (۲۷ دی ماه) در ...</td>\n",
              "      <td>مدیرعامل شرکت ملی نفت، عملکرد مدیریت امور بین‎...</td>\n",
              "    </tr>\n",
              "    <tr>\n",
              "      <th>1</th>\n",
              "      <td>1</td>\n",
              "      <td>به گزارش شانا به نقل از شرکت ملی صنایع پتروشیم...</td>\n",
              "      <td>سرپرست مدیریت برنامه‌ریزی و توسعه شرکت ملی صنا...</td>\n",
              "    </tr>\n",
              "    <tr>\n",
              "      <th>2</th>\n",
              "      <td>2</td>\n",
              "      <td>به گزارش شانا به نقل از شرکت پالایش گاز شهید ه...</td>\n",
              "      <td>پالایشگاه گاز خانگیران با هدف معرفی گوگرد بنتو...</td>\n",
              "    </tr>\n",
              "    <tr>\n",
              "      <th>3</th>\n",
              "      <td>3</td>\n",
              "      <td>به گزارش خبرنگار ایمنا، سعید نظری در صفحه اینس...</td>\n",
              "      <td>سخنگوی شورای شهر شیراز گفت: روند عمرانی و شهرس...</td>\n",
              "    </tr>\n",
              "    <tr>\n",
              "      <th>4</th>\n",
              "      <td>4</td>\n",
              "      <td>به گزارش شانا، سیدباقر مرتضوی، مشاور وزیر نفت ...</td>\n",
              "      <td>مشاور وزیر نفت و مدیرکل اچ اس یی و پدافند غیرع...</td>\n",
              "    </tr>\n",
              "  </tbody>\n",
              "</table>\n",
              "</div>\n",
              "    <div class=\"colab-df-buttons\">\n",
              "\n",
              "  <div class=\"colab-df-container\">\n",
              "    <button class=\"colab-df-convert\" onclick=\"convertToInteractive('df-dba0e61d-0402-410f-846c-b0cf2a2d28f8')\"\n",
              "            title=\"Convert this dataframe to an interactive table.\"\n",
              "            style=\"display:none;\">\n",
              "\n",
              "  <svg xmlns=\"http://www.w3.org/2000/svg\" height=\"24px\" viewBox=\"0 -960 960 960\">\n",
              "    <path d=\"M120-120v-720h720v720H120Zm60-500h600v-160H180v160Zm220 220h160v-160H400v160Zm0 220h160v-160H400v160ZM180-400h160v-160H180v160Zm440 0h160v-160H620v160ZM180-180h160v-160H180v160Zm440 0h160v-160H620v160Z\"/>\n",
              "  </svg>\n",
              "    </button>\n",
              "\n",
              "  <style>\n",
              "    .colab-df-container {\n",
              "      display:flex;\n",
              "      gap: 12px;\n",
              "    }\n",
              "\n",
              "    .colab-df-convert {\n",
              "      background-color: #E8F0FE;\n",
              "      border: none;\n",
              "      border-radius: 50%;\n",
              "      cursor: pointer;\n",
              "      display: none;\n",
              "      fill: #1967D2;\n",
              "      height: 32px;\n",
              "      padding: 0 0 0 0;\n",
              "      width: 32px;\n",
              "    }\n",
              "\n",
              "    .colab-df-convert:hover {\n",
              "      background-color: #E2EBFA;\n",
              "      box-shadow: 0px 1px 2px rgba(60, 64, 67, 0.3), 0px 1px 3px 1px rgba(60, 64, 67, 0.15);\n",
              "      fill: #174EA6;\n",
              "    }\n",
              "\n",
              "    .colab-df-buttons div {\n",
              "      margin-bottom: 4px;\n",
              "    }\n",
              "\n",
              "    [theme=dark] .colab-df-convert {\n",
              "      background-color: #3B4455;\n",
              "      fill: #D2E3FC;\n",
              "    }\n",
              "\n",
              "    [theme=dark] .colab-df-convert:hover {\n",
              "      background-color: #434B5C;\n",
              "      box-shadow: 0px 1px 3px 1px rgba(0, 0, 0, 0.15);\n",
              "      filter: drop-shadow(0px 1px 2px rgba(0, 0, 0, 0.3));\n",
              "      fill: #FFFFFF;\n",
              "    }\n",
              "  </style>\n",
              "\n",
              "    <script>\n",
              "      const buttonEl =\n",
              "        document.querySelector('#df-dba0e61d-0402-410f-846c-b0cf2a2d28f8 button.colab-df-convert');\n",
              "      buttonEl.style.display =\n",
              "        google.colab.kernel.accessAllowed ? 'block' : 'none';\n",
              "\n",
              "      async function convertToInteractive(key) {\n",
              "        const element = document.querySelector('#df-dba0e61d-0402-410f-846c-b0cf2a2d28f8');\n",
              "        const dataTable =\n",
              "          await google.colab.kernel.invokeFunction('convertToInteractive',\n",
              "                                                    [key], {});\n",
              "        if (!dataTable) return;\n",
              "\n",
              "        const docLinkHtml = 'Like what you see? Visit the ' +\n",
              "          '<a target=\"_blank\" href=https://colab.research.google.com/notebooks/data_table.ipynb>data table notebook</a>'\n",
              "          + ' to learn more about interactive tables.';\n",
              "        element.innerHTML = '';\n",
              "        dataTable['output_type'] = 'display_data';\n",
              "        await google.colab.output.renderOutput(dataTable, element);\n",
              "        const docLink = document.createElement('div');\n",
              "        docLink.innerHTML = docLinkHtml;\n",
              "        element.appendChild(docLink);\n",
              "      }\n",
              "    </script>\n",
              "  </div>\n",
              "\n",
              "\n",
              "<div id=\"df-1625e862-a454-4722-a119-9951014f24ed\">\n",
              "  <button class=\"colab-df-quickchart\" onclick=\"quickchart('df-1625e862-a454-4722-a119-9951014f24ed')\"\n",
              "            title=\"Suggest charts.\"\n",
              "            style=\"display:none;\">\n",
              "\n",
              "<svg xmlns=\"http://www.w3.org/2000/svg\" height=\"24px\"viewBox=\"0 0 24 24\"\n",
              "     width=\"24px\">\n",
              "    <g>\n",
              "        <path d=\"M19 3H5c-1.1 0-2 .9-2 2v14c0 1.1.9 2 2 2h14c1.1 0 2-.9 2-2V5c0-1.1-.9-2-2-2zM9 17H7v-7h2v7zm4 0h-2V7h2v10zm4 0h-2v-4h2v4z\"/>\n",
              "    </g>\n",
              "</svg>\n",
              "  </button>\n",
              "\n",
              "<style>\n",
              "  .colab-df-quickchart {\n",
              "    background-color: #E8F0FE;\n",
              "    border: none;\n",
              "    border-radius: 50%;\n",
              "    cursor: pointer;\n",
              "    display: none;\n",
              "    fill: #1967D2;\n",
              "    height: 32px;\n",
              "    padding: 0 0 0 0;\n",
              "    width: 32px;\n",
              "  }\n",
              "\n",
              "  .colab-df-quickchart:hover {\n",
              "    background-color: #E2EBFA;\n",
              "    box-shadow: 0px 1px 2px rgba(60, 64, 67, 0.3), 0px 1px 3px 1px rgba(60, 64, 67, 0.15);\n",
              "    fill: #174EA6;\n",
              "  }\n",
              "\n",
              "  [theme=dark] .colab-df-quickchart {\n",
              "    background-color: #3B4455;\n",
              "    fill: #D2E3FC;\n",
              "  }\n",
              "\n",
              "  [theme=dark] .colab-df-quickchart:hover {\n",
              "    background-color: #434B5C;\n",
              "    box-shadow: 0px 1px 3px 1px rgba(0, 0, 0, 0.15);\n",
              "    filter: drop-shadow(0px 1px 2px rgba(0, 0, 0, 0.3));\n",
              "    fill: #FFFFFF;\n",
              "  }\n",
              "</style>\n",
              "\n",
              "  <script>\n",
              "    async function quickchart(key) {\n",
              "      const charts = await google.colab.kernel.invokeFunction(\n",
              "          'suggestCharts', [key], {});\n",
              "    }\n",
              "    (() => {\n",
              "      let quickchartButtonEl =\n",
              "        document.querySelector('#df-1625e862-a454-4722-a119-9951014f24ed button');\n",
              "      quickchartButtonEl.style.display =\n",
              "        google.colab.kernel.accessAllowed ? 'block' : 'none';\n",
              "    })();\n",
              "  </script>\n",
              "</div>\n",
              "    </div>\n",
              "  </div>\n"
            ]
          },
          "metadata": {},
          "execution_count": 6
        }
      ],
      "source": [
        "df.head()"
      ]
    },
    {
      "cell_type": "code",
      "source": [
        "!pip install -qU transformers\n",
        "!pip install -qU hazm"
      ],
      "metadata": {
        "colab": {
          "base_uri": "https://localhost:8080/"
        },
        "id": "tz8Kbao9sSC7",
        "outputId": "25269309-36aa-42f0-9b5e-62ee63db63d2"
      },
      "execution_count": 16,
      "outputs": [
        {
          "output_type": "stream",
          "name": "stdout",
          "text": [
            "\u001b[2K     \u001b[90m━━━━━━━━━━━━━━━━━━━━━━━━━━━━━━━━━━━━━━━\u001b[0m \u001b[32m367.5/367.5 kB\u001b[0m \u001b[31m6.6 MB/s\u001b[0m eta \u001b[36m0:00:00\u001b[0m\n",
            "\u001b[2K     \u001b[90m━━━━━━━━━━━━━━━━━━━━━━━━━━━━━━━━━━━━━━━━\u001b[0m \u001b[32m4.4/4.4 MB\u001b[0m \u001b[31m71.7 MB/s\u001b[0m eta \u001b[36m0:00:00\u001b[0m\n",
            "\u001b[2K     \u001b[90m━━━━━━━━━━━━━━━━━━━━━━━━━━━━━━━━━━━━━━━━\u001b[0m \u001b[32m18.2/18.2 MB\u001b[0m \u001b[31m81.4 MB/s\u001b[0m eta \u001b[36m0:00:00\u001b[0m\n",
            "\u001b[2K     \u001b[90m━━━━━━━━━━━━━━━━━━━━━━━━━━━━━━━━━━━━━━\u001b[0m \u001b[32m993.5/993.5 kB\u001b[0m \u001b[31m76.3 MB/s\u001b[0m eta \u001b[36m0:00:00\u001b[0m\n",
            "\u001b[2K     \u001b[90m━━━━━━━━━━━━━━━━━━━━━━━━━━━━━━━━━━━━━━\u001b[0m \u001b[32m227.7/227.7 kB\u001b[0m \u001b[31m25.5 MB/s\u001b[0m eta \u001b[36m0:00:00\u001b[0m\n",
            "\u001b[?25h\u001b[31mERROR: pip's dependency resolver does not currently take into account all the packages that are installed. This behaviour is the source of the following dependency conflicts.\n",
            "numba 0.56.4 requires numpy<1.24,>=1.18, but you have numpy 1.25.2 which is incompatible.\n",
            "tensorflow 2.12.0 requires numpy<1.24,>=1.22, but you have numpy 1.25.2 which is incompatible.\u001b[0m\u001b[31m\n",
            "\u001b[0m"
          ]
        }
      ]
    },
    {
      "cell_type": "code",
      "source": [
        "df[\"article_summary\"] = df[\"article\"] + \"<|startoftext|>\" + df[\"summary\"].apply(lambda t: t.replace(\"    \", \"\").replace(\"\\t\", \"\"))\n",
        "df = df.dropna()\n",
        "df = df.reset_index(drop=True)\n",
        "df.head()"
      ],
      "metadata": {
        "colab": {
          "base_uri": "https://localhost:8080/",
          "height": 206
        },
        "id": "sr3rR3LKsc_H",
        "outputId": "edb56d20-1892-49ce-c0ab-bf003b58833b"
      },
      "execution_count": 7,
      "outputs": [
        {
          "output_type": "execute_result",
          "data": {
            "text/plain": [
              "   index                                            article  \\\n",
              "0      0  به گزارش شانا، علی کاردر امروز (۲۷ دی ماه) در ...   \n",
              "1      1  به گزارش شانا به نقل از شرکت ملی صنایع پتروشیم...   \n",
              "2      2  به گزارش شانا به نقل از شرکت پالایش گاز شهید ه...   \n",
              "3      3  به گزارش خبرنگار ایمنا، سعید نظری در صفحه اینس...   \n",
              "4      4  به گزارش شانا، سیدباقر مرتضوی، مشاور وزیر نفت ...   \n",
              "\n",
              "                                             summary  \\\n",
              "0  مدیرعامل شرکت ملی نفت، عملکرد مدیریت امور بین‎...   \n",
              "1  سرپرست مدیریت برنامه‌ریزی و توسعه شرکت ملی صنا...   \n",
              "2  پالایشگاه گاز خانگیران با هدف معرفی گوگرد بنتو...   \n",
              "3  سخنگوی شورای شهر شیراز گفت: روند عمرانی و شهرس...   \n",
              "4  مشاور وزیر نفت و مدیرکل اچ اس یی و پدافند غیرع...   \n",
              "\n",
              "                                     article_summary  \n",
              "0  به گزارش شانا، علی کاردر امروز (۲۷ دی ماه) در ...  \n",
              "1  به گزارش شانا به نقل از شرکت ملی صنایع پتروشیم...  \n",
              "2  به گزارش شانا به نقل از شرکت پالایش گاز شهید ه...  \n",
              "3  به گزارش خبرنگار ایمنا، سعید نظری در صفحه اینس...  \n",
              "4  به گزارش شانا، سیدباقر مرتضوی، مشاور وزیر نفت ...  "
            ],
            "text/html": [
              "\n",
              "  <div id=\"df-66e05b13-3289-4149-9352-860b494b8a8f\" class=\"colab-df-container\">\n",
              "    <div>\n",
              "<style scoped>\n",
              "    .dataframe tbody tr th:only-of-type {\n",
              "        vertical-align: middle;\n",
              "    }\n",
              "\n",
              "    .dataframe tbody tr th {\n",
              "        vertical-align: top;\n",
              "    }\n",
              "\n",
              "    .dataframe thead th {\n",
              "        text-align: right;\n",
              "    }\n",
              "</style>\n",
              "<table border=\"1\" class=\"dataframe\">\n",
              "  <thead>\n",
              "    <tr style=\"text-align: right;\">\n",
              "      <th></th>\n",
              "      <th>index</th>\n",
              "      <th>article</th>\n",
              "      <th>summary</th>\n",
              "      <th>article_summary</th>\n",
              "    </tr>\n",
              "  </thead>\n",
              "  <tbody>\n",
              "    <tr>\n",
              "      <th>0</th>\n",
              "      <td>0</td>\n",
              "      <td>به گزارش شانا، علی کاردر امروز (۲۷ دی ماه) در ...</td>\n",
              "      <td>مدیرعامل شرکت ملی نفت، عملکرد مدیریت امور بین‎...</td>\n",
              "      <td>به گزارش شانا، علی کاردر امروز (۲۷ دی ماه) در ...</td>\n",
              "    </tr>\n",
              "    <tr>\n",
              "      <th>1</th>\n",
              "      <td>1</td>\n",
              "      <td>به گزارش شانا به نقل از شرکت ملی صنایع پتروشیم...</td>\n",
              "      <td>سرپرست مدیریت برنامه‌ریزی و توسعه شرکت ملی صنا...</td>\n",
              "      <td>به گزارش شانا به نقل از شرکت ملی صنایع پتروشیم...</td>\n",
              "    </tr>\n",
              "    <tr>\n",
              "      <th>2</th>\n",
              "      <td>2</td>\n",
              "      <td>به گزارش شانا به نقل از شرکت پالایش گاز شهید ه...</td>\n",
              "      <td>پالایشگاه گاز خانگیران با هدف معرفی گوگرد بنتو...</td>\n",
              "      <td>به گزارش شانا به نقل از شرکت پالایش گاز شهید ه...</td>\n",
              "    </tr>\n",
              "    <tr>\n",
              "      <th>3</th>\n",
              "      <td>3</td>\n",
              "      <td>به گزارش خبرنگار ایمنا، سعید نظری در صفحه اینس...</td>\n",
              "      <td>سخنگوی شورای شهر شیراز گفت: روند عمرانی و شهرس...</td>\n",
              "      <td>به گزارش خبرنگار ایمنا، سعید نظری در صفحه اینس...</td>\n",
              "    </tr>\n",
              "    <tr>\n",
              "      <th>4</th>\n",
              "      <td>4</td>\n",
              "      <td>به گزارش شانا، سیدباقر مرتضوی، مشاور وزیر نفت ...</td>\n",
              "      <td>مشاور وزیر نفت و مدیرکل اچ اس یی و پدافند غیرع...</td>\n",
              "      <td>به گزارش شانا، سیدباقر مرتضوی، مشاور وزیر نفت ...</td>\n",
              "    </tr>\n",
              "  </tbody>\n",
              "</table>\n",
              "</div>\n",
              "    <div class=\"colab-df-buttons\">\n",
              "\n",
              "  <div class=\"colab-df-container\">\n",
              "    <button class=\"colab-df-convert\" onclick=\"convertToInteractive('df-66e05b13-3289-4149-9352-860b494b8a8f')\"\n",
              "            title=\"Convert this dataframe to an interactive table.\"\n",
              "            style=\"display:none;\">\n",
              "\n",
              "  <svg xmlns=\"http://www.w3.org/2000/svg\" height=\"24px\" viewBox=\"0 -960 960 960\">\n",
              "    <path d=\"M120-120v-720h720v720H120Zm60-500h600v-160H180v160Zm220 220h160v-160H400v160Zm0 220h160v-160H400v160ZM180-400h160v-160H180v160Zm440 0h160v-160H620v160ZM180-180h160v-160H180v160Zm440 0h160v-160H620v160Z\"/>\n",
              "  </svg>\n",
              "    </button>\n",
              "\n",
              "  <style>\n",
              "    .colab-df-container {\n",
              "      display:flex;\n",
              "      gap: 12px;\n",
              "    }\n",
              "\n",
              "    .colab-df-convert {\n",
              "      background-color: #E8F0FE;\n",
              "      border: none;\n",
              "      border-radius: 50%;\n",
              "      cursor: pointer;\n",
              "      display: none;\n",
              "      fill: #1967D2;\n",
              "      height: 32px;\n",
              "      padding: 0 0 0 0;\n",
              "      width: 32px;\n",
              "    }\n",
              "\n",
              "    .colab-df-convert:hover {\n",
              "      background-color: #E2EBFA;\n",
              "      box-shadow: 0px 1px 2px rgba(60, 64, 67, 0.3), 0px 1px 3px 1px rgba(60, 64, 67, 0.15);\n",
              "      fill: #174EA6;\n",
              "    }\n",
              "\n",
              "    .colab-df-buttons div {\n",
              "      margin-bottom: 4px;\n",
              "    }\n",
              "\n",
              "    [theme=dark] .colab-df-convert {\n",
              "      background-color: #3B4455;\n",
              "      fill: #D2E3FC;\n",
              "    }\n",
              "\n",
              "    [theme=dark] .colab-df-convert:hover {\n",
              "      background-color: #434B5C;\n",
              "      box-shadow: 0px 1px 3px 1px rgba(0, 0, 0, 0.15);\n",
              "      filter: drop-shadow(0px 1px 2px rgba(0, 0, 0, 0.3));\n",
              "      fill: #FFFFFF;\n",
              "    }\n",
              "  </style>\n",
              "\n",
              "    <script>\n",
              "      const buttonEl =\n",
              "        document.querySelector('#df-66e05b13-3289-4149-9352-860b494b8a8f button.colab-df-convert');\n",
              "      buttonEl.style.display =\n",
              "        google.colab.kernel.accessAllowed ? 'block' : 'none';\n",
              "\n",
              "      async function convertToInteractive(key) {\n",
              "        const element = document.querySelector('#df-66e05b13-3289-4149-9352-860b494b8a8f');\n",
              "        const dataTable =\n",
              "          await google.colab.kernel.invokeFunction('convertToInteractive',\n",
              "                                                    [key], {});\n",
              "        if (!dataTable) return;\n",
              "\n",
              "        const docLinkHtml = 'Like what you see? Visit the ' +\n",
              "          '<a target=\"_blank\" href=https://colab.research.google.com/notebooks/data_table.ipynb>data table notebook</a>'\n",
              "          + ' to learn more about interactive tables.';\n",
              "        element.innerHTML = '';\n",
              "        dataTable['output_type'] = 'display_data';\n",
              "        await google.colab.output.renderOutput(dataTable, element);\n",
              "        const docLink = document.createElement('div');\n",
              "        docLink.innerHTML = docLinkHtml;\n",
              "        element.appendChild(docLink);\n",
              "      }\n",
              "    </script>\n",
              "  </div>\n",
              "\n",
              "\n",
              "<div id=\"df-c78f3a97-a19f-4d5b-abf9-b4c8cbf68a25\">\n",
              "  <button class=\"colab-df-quickchart\" onclick=\"quickchart('df-c78f3a97-a19f-4d5b-abf9-b4c8cbf68a25')\"\n",
              "            title=\"Suggest charts.\"\n",
              "            style=\"display:none;\">\n",
              "\n",
              "<svg xmlns=\"http://www.w3.org/2000/svg\" height=\"24px\"viewBox=\"0 0 24 24\"\n",
              "     width=\"24px\">\n",
              "    <g>\n",
              "        <path d=\"M19 3H5c-1.1 0-2 .9-2 2v14c0 1.1.9 2 2 2h14c1.1 0 2-.9 2-2V5c0-1.1-.9-2-2-2zM9 17H7v-7h2v7zm4 0h-2V7h2v10zm4 0h-2v-4h2v4z\"/>\n",
              "    </g>\n",
              "</svg>\n",
              "  </button>\n",
              "\n",
              "<style>\n",
              "  .colab-df-quickchart {\n",
              "    background-color: #E8F0FE;\n",
              "    border: none;\n",
              "    border-radius: 50%;\n",
              "    cursor: pointer;\n",
              "    display: none;\n",
              "    fill: #1967D2;\n",
              "    height: 32px;\n",
              "    padding: 0 0 0 0;\n",
              "    width: 32px;\n",
              "  }\n",
              "\n",
              "  .colab-df-quickchart:hover {\n",
              "    background-color: #E2EBFA;\n",
              "    box-shadow: 0px 1px 2px rgba(60, 64, 67, 0.3), 0px 1px 3px 1px rgba(60, 64, 67, 0.15);\n",
              "    fill: #174EA6;\n",
              "  }\n",
              "\n",
              "  [theme=dark] .colab-df-quickchart {\n",
              "    background-color: #3B4455;\n",
              "    fill: #D2E3FC;\n",
              "  }\n",
              "\n",
              "  [theme=dark] .colab-df-quickchart:hover {\n",
              "    background-color: #434B5C;\n",
              "    box-shadow: 0px 1px 3px 1px rgba(0, 0, 0, 0.15);\n",
              "    filter: drop-shadow(0px 1px 2px rgba(0, 0, 0, 0.3));\n",
              "    fill: #FFFFFF;\n",
              "  }\n",
              "</style>\n",
              "\n",
              "  <script>\n",
              "    async function quickchart(key) {\n",
              "      const charts = await google.colab.kernel.invokeFunction(\n",
              "          'suggestCharts', [key], {});\n",
              "    }\n",
              "    (() => {\n",
              "      let quickchartButtonEl =\n",
              "        document.querySelector('#df-c78f3a97-a19f-4d5b-abf9-b4c8cbf68a25 button');\n",
              "      quickchartButtonEl.style.display =\n",
              "        google.colab.kernel.accessAllowed ? 'block' : 'none';\n",
              "    })();\n",
              "  </script>\n",
              "</div>\n",
              "    </div>\n",
              "  </div>\n"
            ]
          },
          "metadata": {},
          "execution_count": 7
        }
      ]
    },
    {
      "cell_type": "code",
      "source": [
        "article = list(df[\"article\"].unique())[:5000]"
      ],
      "metadata": {
        "id": "iO3BtqHCs5FE"
      },
      "execution_count": 27,
      "outputs": []
    },
    {
      "cell_type": "code",
      "source": [
        "import numpy as np"
      ],
      "metadata": {
        "id": "jiqPdWo8tCT5"
      },
      "execution_count": 9,
      "outputs": []
    },
    {
      "cell_type": "code",
      "source": [
        "idx = np.random.randint(0, len(df))\n",
        "print(idx)\n",
        "print(df.iloc[idx][\"article\"])\n",
        "print(df.iloc[idx][\"summary\"])\n",
        "print(df.iloc[idx][\"article_summary\"])"
      ],
      "metadata": {
        "colab": {
          "base_uri": "https://localhost:8080/"
        },
        "id": "CvJgBvSws_k3",
        "outputId": "1c02185c-b260-48c3-925d-abadad528b27"
      },
      "execution_count": 10,
      "outputs": [
        {
          "output_type": "stream",
          "name": "stdout",
          "text": [
            "121958\n",
            "روند ولادت‌های ثبت شده در چند سال اخیر حاکی از کاهش فرزندآوری در ایران است.\n",
            "همجنین از متولدان سال گذشته ۵۷۵ هزار و ۱۶۹ نفر پسر و ۵۳۸ هزار و ۹۵۹ نفر دختر ثبت شده است.\n",
            "روند ولادت‌های ثبت شده در چند سال اخیر حاکی از کاهش فرزندآوری در ایران است.<|startoftext|>همجنین از متولدان سال گذشته ۵۷۵ هزار و ۱۶۹ نفر پسر و ۵۳۸ هزار و ۹۵۹ نفر دختر ثبت شده است.\n"
          ]
        }
      ]
    },
    {
      "cell_type": "code",
      "source": [
        "df.info()"
      ],
      "metadata": {
        "colab": {
          "base_uri": "https://localhost:8080/"
        },
        "id": "fwSFISN3tQWL",
        "outputId": "3d9c72bd-91c2-4150-9659-a499d65ea103"
      },
      "execution_count": 10,
      "outputs": [
        {
          "output_type": "stream",
          "name": "stdout",
          "text": [
            "<class 'pandas.core.frame.DataFrame'>\n",
            "RangeIndex: 223800 entries, 0 to 223799\n",
            "Data columns (total 4 columns):\n",
            " #   Column           Non-Null Count   Dtype \n",
            "---  ------           --------------   ----- \n",
            " 0   index            223800 non-null  int64 \n",
            " 1   article          223800 non-null  object\n",
            " 2   summary          223800 non-null  object\n",
            " 3   article_summary  223800 non-null  object\n",
            "dtypes: int64(1), object(3)\n",
            "memory usage: 6.8+ MB\n"
          ]
        }
      ]
    },
    {
      "cell_type": "code",
      "source": [
        "from pathlib import Path\n",
        "\n",
        "import torch\n",
        "from transformers import AutoTokenizer, AutoConfig, AutoModelWithLMHead\n",
        "from transformers import AutoTokenizer, GPT2LMHeadModel, GPT2Config\n",
        "\n",
        "from IPython import display"
      ],
      "metadata": {
        "id": "ggHnnmN2tVad"
      },
      "execution_count": 11,
      "outputs": []
    },
    {
      "cell_type": "code",
      "source": [
        "model_name_or_path = \"HooshvareLab/gpt2-fa\""
      ],
      "metadata": {
        "id": "D4lR5QFyuGBH"
      },
      "execution_count": 12,
      "outputs": []
    },
    {
      "cell_type": "code",
      "source": [
        "tokenizer = AutoTokenizer.from_pretrained(\n",
        "    model_name_or_path,\n",
        "    bos_token='<s>',\n",
        "    eos_token='</s>',\n",
        "    pad_token='<pad>',\n",
        "    unk_token='<unk>'\n",
        ")\n",
        "tokenizer.add_special_tokens({\n",
        "    \"bos_token\": '</s>',\n",
        "    \"eos_token\": '</s>',\n",
        "    \"pad_token\": '<pad>',\n",
        "    \"unk_token\": '<unk>'\n",
        "})"
      ],
      "metadata": {
        "colab": {
          "base_uri": "https://localhost:8080/"
        },
        "id": "-CHZbX_uuERY",
        "outputId": "b4ac60d7-5a1f-499a-b72f-4b22d4d14e24"
      },
      "execution_count": 13,
      "outputs": [
        {
          "output_type": "execute_result",
          "data": {
            "text/plain": [
              "0"
            ]
          },
          "metadata": {},
          "execution_count": 13
        }
      ]
    },
    {
      "cell_type": "code",
      "source": [
        "config = AutoConfig.from_pretrained(\n",
        "    model_name_or_path,\n",
        "    bos_token_id=tokenizer(\"<s>\")[\"input_ids\"][0],\n",
        "    eos_token_id=tokenizer(\"</s>\")[\"input_ids\"][0],\n",
        "    pad_token_id=tokenizer(\"<pad>\")[\"input_ids\"][0],\n",
        "    unk_token_id=tokenizer(\"<unk>\")[\"input_ids\"][0],\n",
        ")"
      ],
      "metadata": {
        "id": "LvbevJI_uoW_"
      },
      "execution_count": 14,
      "outputs": []
    },
    {
      "cell_type": "code",
      "source": [
        "tokenizer.save_pretrained(\"/content/gpt2/\")\n",
        "config.save_pretrained(\"/content/gpt2/\")\n",
        "\n",
        "!wget \"https://huggingface.co/HooshvareLab/gpt2-fa/resolve/main/pytorch_model.bin\" -P /content/gpt2/\n",
        "!wget \"https://huggingface.co/HooshvareLab/gpt2-fa/resolve/main/tokenizer.json\" -P /content/gpt2/"
      ],
      "metadata": {
        "colab": {
          "base_uri": "https://localhost:8080/"
        },
        "id": "tZo1XbMPtZI1",
        "outputId": "ea5a9dda-fc77-421a-90b6-d9cd17633c1d"
      },
      "execution_count": 26,
      "outputs": [
        {
          "output_type": "stream",
          "name": "stdout",
          "text": [
            "--2023-08-25 09:25:39--  https://huggingface.co/HooshvareLab/gpt2-fa/resolve/main/pytorch_model.bin\n",
            "Resolving huggingface.co (huggingface.co)... 18.172.134.124, 18.172.134.4, 18.172.134.88, ...\n",
            "Connecting to huggingface.co (huggingface.co)|18.172.134.124|:443... connected.\n",
            "HTTP request sent, awaiting response... 302 Found\n",
            "Location: https://cdn-lfs.huggingface.co/HooshvareLab/gpt2-fa/46b0b806c740a0f0a9f056f5574c5fa896166fe844945fd3c849bf34365e5060?response-content-disposition=attachment%3B+filename*%3DUTF-8%27%27pytorch_model.bin%3B+filename%3D%22pytorch_model.bin%22%3B&response-content-type=application%2Foctet-stream&Expires=1693214739&Policy=eyJTdGF0ZW1lbnQiOlt7IkNvbmRpdGlvbiI6eyJEYXRlTGVzc1RoYW4iOnsiQVdTOkVwb2NoVGltZSI6MTY5MzIxNDczOX19LCJSZXNvdXJjZSI6Imh0dHBzOi8vY2RuLWxmcy5odWdnaW5nZmFjZS5jby9Ib29zaHZhcmVMYWIvZ3B0Mi1mYS80NmIwYjgwNmM3NDBhMGYwYTlmMDU2ZjU1NzRjNWZhODk2MTY2ZmU4NDQ5NDVmZDNjODQ5YmYzNDM2NWU1MDYwP3Jlc3BvbnNlLWNvbnRlbnQtZGlzcG9zaXRpb249KiZyZXNwb25zZS1jb250ZW50LXR5cGU9KiJ9XX0_&Signature=FPMZmolxuNa4tp-qDchqpBm6NT0eA-ZQwEiUt2WHtmLmSP%7EvxdPkd5iiX6wFun6pSfGoYeKyd-TxQlr2m6DUyqFEHlQD1YUg5RznPM9hn8QBg2ELAdN-73moe3D1GoC3Nxat-2yP6nquuSxQFDK8-mJgIskbd3o5X4udC3gN6vygypgFT3pPztnvZ8Y21tqY1qEBAexa2bA7CbHPDE3WPYEMcQ1ufeNWjWRg62gS3gP2lW-GB-TIza2-kt96xNy6l7Iv27VK0MbKivxo9dunl9-JfRBsw1ofMay2rN3gGbuhJQEV-Kuj5yKSrtrArUjfYT%7EZnsqIp0k7mero56P3cQ__&Key-Pair-Id=KVTP0A1DKRTAX [following]\n",
            "--2023-08-25 09:25:39--  https://cdn-lfs.huggingface.co/HooshvareLab/gpt2-fa/46b0b806c740a0f0a9f056f5574c5fa896166fe844945fd3c849bf34365e5060?response-content-disposition=attachment%3B+filename*%3DUTF-8%27%27pytorch_model.bin%3B+filename%3D%22pytorch_model.bin%22%3B&response-content-type=application%2Foctet-stream&Expires=1693214739&Policy=eyJTdGF0ZW1lbnQiOlt7IkNvbmRpdGlvbiI6eyJEYXRlTGVzc1RoYW4iOnsiQVdTOkVwb2NoVGltZSI6MTY5MzIxNDczOX19LCJSZXNvdXJjZSI6Imh0dHBzOi8vY2RuLWxmcy5odWdnaW5nZmFjZS5jby9Ib29zaHZhcmVMYWIvZ3B0Mi1mYS80NmIwYjgwNmM3NDBhMGYwYTlmMDU2ZjU1NzRjNWZhODk2MTY2ZmU4NDQ5NDVmZDNjODQ5YmYzNDM2NWU1MDYwP3Jlc3BvbnNlLWNvbnRlbnQtZGlzcG9zaXRpb249KiZyZXNwb25zZS1jb250ZW50LXR5cGU9KiJ9XX0_&Signature=FPMZmolxuNa4tp-qDchqpBm6NT0eA-ZQwEiUt2WHtmLmSP%7EvxdPkd5iiX6wFun6pSfGoYeKyd-TxQlr2m6DUyqFEHlQD1YUg5RznPM9hn8QBg2ELAdN-73moe3D1GoC3Nxat-2yP6nquuSxQFDK8-mJgIskbd3o5X4udC3gN6vygypgFT3pPztnvZ8Y21tqY1qEBAexa2bA7CbHPDE3WPYEMcQ1ufeNWjWRg62gS3gP2lW-GB-TIza2-kt96xNy6l7Iv27VK0MbKivxo9dunl9-JfRBsw1ofMay2rN3gGbuhJQEV-Kuj5yKSrtrArUjfYT%7EZnsqIp0k7mero56P3cQ__&Key-Pair-Id=KVTP0A1DKRTAX\n",
            "Resolving cdn-lfs.huggingface.co (cdn-lfs.huggingface.co)... 18.154.185.94, 18.154.185.64, 18.154.185.27, ...\n",
            "Connecting to cdn-lfs.huggingface.co (cdn-lfs.huggingface.co)|18.154.185.94|:443... connected.\n",
            "HTTP request sent, awaiting response... 200 OK\n",
            "Length: 485044198 (463M) [application/octet-stream]\n",
            "Saving to: ‘/content/gpt2/pytorch_model.bin’\n",
            "\n",
            "pytorch_model.bin   100%[===================>] 462.57M   248MB/s    in 1.9s    \n",
            "\n",
            "2023-08-25 09:25:41 (248 MB/s) - ‘/content/gpt2/pytorch_model.bin’ saved [485044198/485044198]\n",
            "\n",
            "--2023-08-25 09:25:41--  https://huggingface.co/HooshvareLab/gpt2-fa/resolve/main/tokenizer.json\n",
            "Resolving huggingface.co (huggingface.co)... 18.172.134.124, 18.172.134.4, 18.172.134.88, ...\n",
            "Connecting to huggingface.co (huggingface.co)|18.172.134.124|:443... connected.\n",
            "HTTP request sent, awaiting response... 200 OK\n",
            "Length: 2748949 (2.6M) [text/plain]\n",
            "Saving to: ‘/content/gpt2/tokenizer.json.1’\n",
            "\n",
            "tokenizer.json.1    100%[===================>]   2.62M  --.-KB/s    in 0.1s    \n",
            "\n",
            "2023-08-25 09:25:42 (20.6 MB/s) - ‘/content/gpt2/tokenizer.json.1’ saved [2748949/2748949]\n",
            "\n"
          ]
        }
      ]
    },
    {
      "cell_type": "code",
      "source": [
        "tokenizer = AutoTokenizer.from_pretrained(\n",
        "    \"/content/gpt2\",\n",
        "    bos_token='<s>',\n",
        "    eos_token='</s>',\n",
        "    pad_token='<pad>'\n",
        ")\n",
        "\n",
        "print(tokenizer.encode(\"سلام بر شما\"))\n",
        "print(tokenizer.encode(\"<s>\"))\n",
        "print(tokenizer.encode(\"</s>\"))\n",
        "print(tokenizer.encode(\"<pad>\"))\n",
        "print(tokenizer.encode(\"<|startoftext|>\"))\n",
        "print(tokenizer.encode(\"<sep>\"))"
      ],
      "metadata": {
        "colab": {
          "base_uri": "https://localhost:8080/"
        },
        "id": "srT_iJkQushg",
        "outputId": "ba1d35f1-326e-42c1-e2dc-fd4643c82352"
      },
      "execution_count": 15,
      "outputs": [
        {
          "output_type": "stream",
          "name": "stdout",
          "text": [
            "[8906, 327, 512]\n",
            "[0]\n",
            "[2]\n",
            "[1]\n",
            "[6]\n",
            "[9]\n"
          ]
        }
      ]
    },
    {
      "cell_type": "code",
      "source": [
        "texts = df[\"article_summary\"].values.tolist()\n",
        "\n",
        "print(len(texts))"
      ],
      "metadata": {
        "colab": {
          "base_uri": "https://localhost:8080/"
        },
        "id": "iA-uD2_Gu3Mw",
        "outputId": "8641fce7-65fe-4b0b-cc57-22b134793d16"
      },
      "execution_count": 16,
      "outputs": [
        {
          "output_type": "stream",
          "name": "stdout",
          "text": [
            "223800\n"
          ]
        }
      ]
    },
    {
      "cell_type": "code",
      "source": [
        "# max_seq = max([len(tokenizer.encode(text)) for text in texts])\n",
        "\n",
        "# print(f'The longest text is {max_seq} tokens long.')\n",
        "\n",
        "# Due to the limited resources and for the sake of simplicity\n",
        "# Set to 256\n",
        "max_seq = 256"
      ],
      "metadata": {
        "id": "slLJchQSu7aq"
      },
      "execution_count": 19,
      "outputs": []
    },
    {
      "cell_type": "code",
      "source": [
        "from torch.utils.data import Dataset  # this is the pytorch class import\n",
        "import torch\n",
        "torch.manual_seed(42)\n",
        "\n",
        "\n",
        "class SummaryGenDataset(Dataset):\n",
        "\n",
        "    def __init__(self, txt_list, tokenizer, max_length=1024):\n",
        "\n",
        "        self.tokenizer = tokenizer  # the gpt2 tokenizer we instantiated\n",
        "        self.input_ids = []\n",
        "        self.attn_masks = []\n",
        "\n",
        "        for txt in txt_list:\n",
        "            \"\"\"\n",
        "            This loop will iterate through each entry in the flavour text corpus.\n",
        "            For each bit of text it will prepend it with the start of text token,\n",
        "            then append the end of text token and pad to the maximum length with the\n",
        "            pad token.\n",
        "            \"\"\"\n",
        "\n",
        "            encodings_dict = tokenizer('<s>' + txt + '</s>',\n",
        "                                       truncation=True,\n",
        "                                       max_length=max_length,\n",
        "                                       padding='max_length')\n",
        "\n",
        "            \"\"\"\n",
        "            Each iteration then appends either the encoded tensor to a list,\n",
        "            or the attention mask for that encoding to a list. The attention mask is\n",
        "            a binary list of 1's or 0's which determine whether the langauge model\n",
        "            should take that token into consideration or not.\n",
        "            \"\"\"\n",
        "            self.input_ids.append(torch.tensor(encodings_dict['input_ids']))\n",
        "            self.attn_masks.append(torch.tensor(encodings_dict['attention_mask']))\n",
        "\n",
        "    def __len__(self):\n",
        "        return len(self.input_ids)\n",
        "\n",
        "    def __getitem__(self, idx):\n",
        "        return self.input_ids[idx], self.attn_masks[idx]"
      ],
      "metadata": {
        "id": "RWC1km3XvDap"
      },
      "execution_count": 17,
      "outputs": []
    },
    {
      "cell_type": "code",
      "source": [
        "from torch.utils.data import random_split\n",
        "\n",
        "dataset = SummaryGenDataset(texts[:5000], tokenizer, max_length=max_seq)\n",
        "\n",
        "# Split into training and validation sets\n",
        "train_size = int(0.9 * len(dataset))\n",
        "val_size = len(dataset) - train_size\n",
        "train_dataset, val_dataset = random_split(dataset, [train_size, val_size])\n",
        "\n",
        "f'There are {len(train_dataset)} samples for training, and {len(val_dataset)} samples for validation testing'"
      ],
      "metadata": {
        "colab": {
          "base_uri": "https://localhost:8080/",
          "height": 35
        },
        "id": "56d0CSDDvT2-",
        "outputId": "7be15c49-1ba2-4ccf-b5dc-46ead532c070"
      },
      "execution_count": 20,
      "outputs": [
        {
          "output_type": "execute_result",
          "data": {
            "text/plain": [
              "'There are 4500 samples for training, and 500 samples for validation testing'"
            ],
            "application/vnd.google.colaboratory.intrinsic+json": {
              "type": "string"
            }
          },
          "metadata": {},
          "execution_count": 20
        }
      ]
    },
    {
      "cell_type": "code",
      "source": [
        "print(train_dataset[0][0][:100])\n",
        "print(tokenizer.decode(train_dataset[0][0][:100]))"
      ],
      "metadata": {
        "colab": {
          "base_uri": "https://localhost:8080/"
        },
        "id": "lMSCzYtuvdtA",
        "outputId": "0fa1533e-8e0f-4e0d-cecc-65ef5edaa5ec"
      },
      "execution_count": 21,
      "outputs": [
        {
          "output_type": "stream",
          "name": "stdout",
          "text": [
            "tensor([    0,   490,   893,  4146,   303,  1893,   312,  3586,  1848,  3836,\n",
            "         2796,  1363,   305,  2593,  3590,  4129,   305,  1371,   428,   799,\n",
            "          285,  1622,   305,  3708,  4628,   656,    19,   298,  8779,   986,\n",
            "         1177,  3663,   314,  1454,   326,   323,  1072,   314,   912,  1010,\n",
            "          366,  1522,  1629,   564,  1346,   611,   395,   305,   639,    36,\n",
            "          986,   312,  1072,   293,  1863, 12109,  3327,  2366,   305,  1794,\n",
            "         1637,   712,   399,   326,   426,   668,   312,   358,   323,   986,\n",
            "          303,  3359,   377,   303, 12436,   983,   501,   293,   314,  1213,\n",
            "          293, 11950,   298,  2460,   516,  1185,   305,   314,  1575,   305,\n",
            "        23872,   293,   298,  1207,   354,   509,  1931,   305,  1629,   564])\n",
            "<s>به گزارش شانا به نقل از پایگاه اطلاع رسانی ریاست جمهوری، دکتر حسن روحانی، امروز (سه‌شنبه، ۲۱ اردیبهشت ماه) در اجتماع مردم استان کرمان با بیان این که دولت با تمام توان برای حل مشکلات کشور تلاش خواهد کرد، گفت: مردم از دولت و مجلس توقع اختلاف ندارند، بلکه انتظار دارند تا این دو بعد از آن که مردم به مسئولیت خود به شایستگی عمل کرده و با شور و نشاط در انتخابات شرکت کردند، با همکاری، همفکری و در کنار هم قرار گرفتن، مشکلات کشور\n"
          ]
        }
      ]
    },
    {
      "cell_type": "code",
      "source": [
        "from torch.utils.data import DataLoader, RandomSampler, SequentialSampler\n",
        "\n",
        "train_dataloader = DataLoader(\n",
        "    train_dataset,\n",
        "    sampler=RandomSampler(train_dataset),\n",
        "    batch_size=8\n",
        ")\n",
        "\n",
        "validation_dataloader = DataLoader(\n",
        "    val_dataset,\n",
        "    sampler=SequentialSampler(val_dataset),\n",
        "    batch_size=8\n",
        ")"
      ],
      "metadata": {
        "id": "LSNZ3DM5vjlg"
      },
      "execution_count": 22,
      "outputs": []
    },
    {
      "cell_type": "code",
      "source": [
        "import random\n",
        "from transformers import GPT2LMHeadModel, GPT2Config\n",
        "import numpy as np\n",
        "\n",
        "# Loading the model configuration and setting it to the GPT2 standard settings.\n",
        "configuration = GPT2Config.from_pretrained('./gpt2', output_hidden_states=False)\n",
        "\n",
        "# Create the instance of the model and set the token size embedding length\n",
        "model = GPT2LMHeadModel.from_pretrained(\"./gpt2\", config=configuration)\n",
        "model.resize_token_embeddings(len(tokenizer))\n",
        "\n",
        "# Tell pytorch to run this model on the GPU.\n",
        "device = torch.device(\"cuda\")\n",
        "model.cuda()\n",
        "\n",
        "# This step is optional but will enable reproducible runs.\n",
        "seed_val = 42\n",
        "\n",
        "random.seed(seed_val)\n",
        "np.random.seed(seed_val)\n",
        "torch.manual_seed(seed_val)\n",
        "torch.cuda.manual_seed_all(seed_val)"
      ],
      "metadata": {
        "colab": {
          "base_uri": "https://localhost:8080/"
        },
        "id": "vYAAHYO4vmbo",
        "outputId": "89f3fb79-6764-4ca9-fe61-22af39ea46b6"
      },
      "execution_count": 23,
      "outputs": [
        {
          "output_type": "stream",
          "name": "stderr",
          "text": [
            "You are resizing the embedding layer without providing a `pad_to_multiple_of` parameter. This means that the new embeding dimension will be 42001. This might induce some performance reduction as *Tensor Cores* will not be available. For more details  about this, or help on choosing the correct value for resizing, refer to this guide: https://docs.nvidia.com/deeplearning/performance/dl-performance-matrix-multiplication/index.html#requirements-tc\n"
          ]
        }
      ]
    },
    {
      "cell_type": "code",
      "source": [
        "epochs = 3\n",
        "warmup_steps = 1e2\n",
        "sample_every = 300"
      ],
      "metadata": {
        "id": "53EWbrdDwaIO"
      },
      "execution_count": 24,
      "outputs": []
    },
    {
      "cell_type": "code",
      "source": [
        "from transformers import AdamW\n",
        "\n",
        "# AdamW is a class from the huggingface library, it is the optimizer we will be using, and we will only be instantiating it with the default parameters.\n",
        "optimizer = AdamW(\n",
        "    model.parameters(),\n",
        "    lr=5e-4,\n",
        "    eps=1e-8\n",
        ")"
      ],
      "metadata": {
        "colab": {
          "base_uri": "https://localhost:8080/"
        },
        "id": "vn_5ZlNgwcxJ",
        "outputId": "1689f470-2c85-4b9b-e271-3f93f2817242"
      },
      "execution_count": 25,
      "outputs": [
        {
          "output_type": "stream",
          "name": "stderr",
          "text": [
            "/usr/local/lib/python3.10/dist-packages/transformers/optimization.py:411: FutureWarning: This implementation of AdamW is deprecated and will be removed in a future version. Use the PyTorch implementation torch.optim.AdamW instead, or set `no_deprecation_warning=True` to disable this warning\n",
            "  warnings.warn(\n"
          ]
        }
      ]
    },
    {
      "cell_type": "code",
      "source": [
        "from transformers import get_linear_schedule_with_warmup\n",
        "\n",
        "\"\"\"\n",
        "Total training steps is the number of data points, times the number of epochs.\n",
        "Essentially, epochs are training cycles, how many times each point will be seen by the model.\n",
        "\"\"\"\n",
        "\n",
        "total_steps = len(train_dataloader) * epochs\n",
        "\n",
        "\"\"\"\n",
        "We can set a variable learning rate which will help scan larger areas of the\n",
        "problem space at higher LR earlier, then fine tune to find the exact model minima\n",
        "at lower LR later in training.\n",
        "\"\"\"\n",
        "scheduler = get_linear_schedule_with_warmup(\n",
        "    optimizer,\n",
        "    num_warmup_steps=warmup_steps,\n",
        "    num_training_steps=total_steps)"
      ],
      "metadata": {
        "id": "8_GXAStEwhM-"
      },
      "execution_count": 26,
      "outputs": []
    },
    {
      "cell_type": "code",
      "source": [
        "# tokenizer(sample_input)[\"input_ids\"]\n",
        "# torch.tensor(tokenizer([sample_input])[\"input_ids\"])"
      ],
      "metadata": {
        "id": "Zm_L4YKBwiFO"
      },
      "execution_count": null,
      "outputs": []
    },
    {
      "cell_type": "code",
      "source": [
        "sample_article = article[np.random.randint(0, 1024)]\n",
        "sample_input = f\"<s>{sample_article}<|startoftext|>\"\n",
        "print(sample_input)\n",
        "sample_input_ids = torch.tensor(tokenizer([sample_input])[\"input_ids\"])\n",
        "sample_input_ids = sample_input_ids.to(device)\n",
        "\n",
        "sample_outputs = model.generate(\n",
        "    input_ids=sample_input_ids,\n",
        "    #bos_token_id=random.randint(1, len(tokenizer.get_vocab())),\n",
        "    do_sample=True,\n",
        "    top_k=50,\n",
        "    max_length=len(sample_input_ids) + 10,\n",
        "    top_p=0.95,\n",
        "    num_return_sequences=1\n",
        ")\n",
        "for i, sample_output in enumerate(sample_outputs):\n",
        "    gen_sample_output = tokenizer.decode(sample_output, skip_special_tokens=False)\n",
        "    gen_sample_output = gen_sample_output.replace(\"<|startoftext|>\", \"\\n\")\n",
        "    gen_sample_output = gen_sample_output.replace(\"<s>\", \"\")\n",
        "    gen_sample_output = gen_sample_output.replace(\"</s>\", \"\")\n",
        "    gen_sample_output = gen_sample_output.replace(\"<sep>\", \"\\n\")\n",
        "\n",
        "    print(f'Example output: {gen_sample_output}')"
      ],
      "metadata": {
        "colab": {
          "base_uri": "https://localhost:8080/"
        },
        "id": "fSKMQ3wxwj9g",
        "outputId": "e5f38982-8fd2-4ab4-a5a3-0e1571183996"
      },
      "execution_count": 29,
      "outputs": [
        {
          "output_type": "stream",
          "name": "stdout",
          "text": [
            "<s>به گزارش شانا، متن پیام سیدباقر مرتضوی به شرح زیر است: [n] انا لله و انا الیه راجعون [n] با کمال تاسف؛ خبر درگذشت نابهنگام همکار عزیز، پرتلاش و متعهد اچ‌اس‌یی صنعت نفت جناب آقای مهندس محمدرضا کاظمی، رئیس اچ‌اس‌یی منطقه عملیاتی خارک شرکت پایانه‌های نفتی ایران، موجب تاثر و تالم عمیق گردید. [n] مسئولیت پذیری، سختکوشی و صداقت از صفات برجسته ایشان در طول دوران خدمت در صنعت نفت بود و بی‌شک آثار خدمات ارزنده ایشان در صنعت نفت ماندگار خواهد بود. [n] این جانب به نمایندگی از مجموعه اچ‌اس‌یی و پدافند غیرعامل صنعت نفت، این ضایعه تاسف‌بار را به خانواده معزز ایشان تسلیت عرض نموده و از خداوند متعال برای روح آن فقید سعید رحمت بیکران و برای بازماندگان صبر و بردباری مسئلت می‌نمایم.<|startoftext|>\n"
          ]
        },
        {
          "output_type": "stream",
          "name": "stderr",
          "text": [
            "/usr/local/lib/python3.10/dist-packages/transformers/generation/utils.py:1262: UserWarning: Input length of input_ids is 177, but `max_length` is set to 11. This can lead to unexpected behavior. You should consider increasing `max_new_tokens`.\n",
            "  warnings.warn(\n"
          ]
        },
        {
          "output_type": "stream",
          "name": "stdout",
          "text": [
            "Example output: به گزارش شانا، متن پیام سیدباقر مرتضوی به شرح زیر است: [n] انا لله و انا الیه راجعون [n] با کمال تاسف؛ خبر درگذشت نابهنگام همکار عزیز، پرتلاش و متعهد اچ‌اس‌یی صنعت نفت جناب آقای مهندس محمدرضا کاظمی، رئیس اچ‌اس‌یی منطقه عملیاتی خارک شرکت پایانه‌های نفتی ایران، موجب تاثر و تالم عمیق گردید. [n] مسئولیت پذیری، سختکوشی و صداقت از صفات برجسته ایشان در طول دوران خدمت در صنعت نفت بود و بی‌شک آثار خدمات ارزنده ایشان در صنعت نفت ماندگار خواهد بود. [n] این جانب به نمایندگی از مجموعه اچ‌اس‌یی و پدافند غیرعامل صنعت نفت، این ضایعه تاسف‌بار را به خانواده معزز ایشان تسلیت عرض نموده و از خداوند متعال برای روح آن فقید سعید رحمت بیکران و برای بازماندگان صبر و بردباری مسئلت می‌نمایم.\n",
            "به\n"
          ]
        }
      ]
    },
    {
      "cell_type": "code",
      "source": [
        "import random\n",
        "import time\n",
        "import datetime\n",
        "from tqdm import tqdm\n",
        "\n",
        "\n",
        "def format_time(elapsed):\n",
        "    return str(datetime.timedelta(seconds=int(round((elapsed)))))\n",
        "\n",
        "\n",
        "total_t0 = time.time()\n",
        "\n",
        "training_stats = []\n",
        "\n",
        "model = model.to(device)\n",
        "\n",
        "for epoch_i in tqdm(range(0, epochs), position=0):\n",
        "\n",
        "    print(f'Beginning epoch {epoch_i + 1} of {epochs}')\n",
        "\n",
        "    t0 = time.time()\n",
        "\n",
        "    total_train_loss = 0\n",
        "\n",
        "    model.train()\n",
        "\n",
        "    for step, batch in tqdm(enumerate(train_dataloader), total=len(train_dataloader), position=0):\n",
        "\n",
        "        b_input_ids = batch[0].to(device)\n",
        "        b_labels = batch[0].to(device)\n",
        "        b_masks = batch[1].to(device)\n",
        "\n",
        "        model.zero_grad()\n",
        "\n",
        "        outputs = model(b_input_ids, labels=b_labels, attention_mask=b_masks, token_type_ids=None)\n",
        "\n",
        "        loss = outputs[0]\n",
        "\n",
        "        batch_loss = loss.item()\n",
        "        total_train_loss += batch_loss\n",
        "\n",
        "        # Get sample every 100 batches.\n",
        "        if step % sample_every == 0 and not step == 0:\n",
        "\n",
        "            elapsed = format_time(time.time() - t0)\n",
        "            print()\n",
        "            print(f'Batch {step} of {len(train_dataloader)}. Loss:{batch_loss}. Time:{elapsed}')\n",
        "\n",
        "            model.eval()\n",
        "\n",
        "            sample_article = article[np.random.randint(0, len(article))]\n",
        "            sample_input = f\"<s>{sample_article}<|startoftext|>\"\n",
        "            sample_input_ids = torch.tensor(tokenizer([sample_input])[\"input_ids\"])\n",
        "            sample_input_ids = sample_input_ids.to(device)\n",
        "\n",
        "            sample_outputs = model.generate(\n",
        "                input_ids=sample_input_ids,\n",
        "                # bos_token_id=random.randint(1, len(tokenizer.get_vocab())),\n",
        "                do_sample=True,\n",
        "                top_k=50,\n",
        "                #max_length=50,\n",
        "                max_length=len(sample_input_ids) + 10,  # Set `max_length` to length of input sequence + some additional tokens\n",
        "                top_p=0.95,\n",
        "                num_return_sequences=1\n",
        "            )\n",
        "            for i, sample_output in enumerate(sample_outputs):\n",
        "                gen_sample_output = tokenizer.decode(sample_output, skip_special_tokens=False)\n",
        "                gen_sample_output = gen_sample_output.replace(\"<|startoftext|>\", \"\\n\")\n",
        "                gen_sample_output = gen_sample_output.replace(\"<s>\", \"\")\n",
        "                gen_sample_output = gen_sample_output.replace(\"</s>\", \"\")\n",
        "                gen_sample_output = gen_sample_output.replace(\"<sep>\", \"\\n\")\n",
        "\n",
        "                print(f'Example output: {gen_sample_output}')\n",
        "\n",
        "            model.train()\n",
        "\n",
        "        loss.backward()\n",
        "        optimizer.step()\n",
        "        scheduler.step()\n",
        "\n",
        "    # Calculate the average loss over all of the batches.\n",
        "    avg_train_loss = total_train_loss / len(train_dataloader)\n",
        "\n",
        "    # Measure how long this epoch took.\n",
        "    training_time = format_time(time.time() - t0)\n",
        "\n",
        "    print()\n",
        "    print(f'Average Training Loss: {avg_train_loss}. Epoch time: {training_time}')\n",
        "    print()\n",
        "\n",
        "    t0 = time.time()\n",
        "\n",
        "    model.eval()\n",
        "\n",
        "    total_eval_loss = 0\n",
        "    nb_eval_steps = 0\n",
        "\n",
        "    # Evaluate data for one epoch\n",
        "    for batch in tqdm(validation_dataloader, total=len(validation_dataloader), position=0):\n",
        "\n",
        "        b_input_ids = batch[0].to(device)\n",
        "        b_labels = batch[0].to(device)\n",
        "        b_masks = batch[1].to(device)\n",
        "\n",
        "        with torch.no_grad():\n",
        "\n",
        "            outputs = model(b_input_ids, attention_mask=b_masks, labels=b_labels)\n",
        "\n",
        "            loss = outputs[0]\n",
        "\n",
        "        batch_loss = loss.item()\n",
        "        total_eval_loss += batch_loss\n",
        "\n",
        "    avg_val_loss = total_eval_loss / len(validation_dataloader)\n",
        "\n",
        "    validation_time = format_time(time.time() - t0)\n",
        "\n",
        "    print()\n",
        "    print(f'Validation loss: {avg_val_loss}. Validation Time: {validation_time}')\n",
        "    print()\n",
        "\n",
        "    # Record all statistics from this epoch.\n",
        "    training_stats.append(\n",
        "        {\n",
        "            'epoch': epoch_i + 1,\n",
        "            'Training Loss': avg_train_loss,\n",
        "            'Valid. Loss': avg_val_loss,\n",
        "            'Training Time': training_time,\n",
        "            'Validation Time': validation_time\n",
        "        }\n",
        "    )\n",
        "\n",
        "print(f'Total training took {format_time(time.time()-total_t0)}')"
      ],
      "metadata": {
        "colab": {
          "base_uri": "https://localhost:8080/"
        },
        "id": "UNlw4n6uw0wI",
        "outputId": "e16f03db-90d6-4360-a7b5-08714d777b95"
      },
      "execution_count": 49,
      "outputs": [
        {
          "output_type": "stream",
          "name": "stderr",
          "text": [
            "\r  0%|          | 0/3 [00:00<?, ?it/s]"
          ]
        },
        {
          "output_type": "stream",
          "name": "stdout",
          "text": [
            "Beginning epoch 1 of 3\n"
          ]
        },
        {
          "output_type": "stream",
          "name": "stderr",
          "text": [
            " 53%|█████▎    | 300/563 [02:46<02:29,  1.76it/s]"
          ]
        },
        {
          "output_type": "stream",
          "name": "stdout",
          "text": [
            "\n",
            "Batch 300 of 563. Loss:1.241730809211731. Time:0:02:47\n",
            "Example output: مدیر پژوهش و فناوری شرکت ملی گاز ایران در گفتگو با خبرنگار شانا اظهار کرد: طرح تولید بخاری با رده انرژی B در حال انجام است و برای نهایی شدن آن باید اصلاحاتی در خط تولید شرکت تولید کننده این بخاری انجام شود. [n] سعید پاک سرشت افزود: همزمان با طراحی و اصلاح خط تولید، مخترع ایرانی این طرح نیز دانش فنی تولید بخاری را به شرکت سازنده ارائه میکند. [n] وی تصریح کرد: بر اساس برنامه ریزی‌های انجام شده، تا پایان سال جاری ۱۰۰ هزار دستگاه از این بخاری‌ها به بازار عرضه می‌شود. [n] به گفته وی، مدیر پژوهش و فناوری شرکت ملی گاز ایران بمنظور محقق شدن این طرح بصورت جدی مراحل تولید این بخاری را از نزدیک پیگیری می‌کند. [n] وی تاکید کرد: مراحل تولید این بخاری بر اساس برنامه در حال انجام است و پیشرفت مطلوبی دارد. [n] به گزارش شانا، در نوزدهمین نمایشگاه بین المللی نفت، گاز، پالایش و پتروشیمی قرارداد اعطای مجوز به تولید اختراع بخاری‌های گازسوز با رده انرژی B با طراحی مخترعان داخلی، امضا شد. [n] در مرحله نخست این طرح با بهره گیری از دانش فنی داخلی، ۱۰۰ هزار بخاری گازسوز با راندمان ۸۲ درصد و رده انرژی B تولید می‌شود و با تولید ۱۰۰ هزار بخاری، ۱۲۰ شغل مستقیم و ۴۸۰ شغل غیرمستقیم ایجاد می‌شود. [n] در حال حاضر به ۲۰ میلیون دستگاه از این بخاری‌ها برای بازار داخل نیاز است که با افزایش تولید، امکان صادرات به کشورهای آذربایجان، ارمنستان، ترکیه، بلاروس، تونس، الجزایر و بازارهای رو به رشد شرق آسیا از جمله هند، پاکستان و افغانستان فراهم می‌شود. [n] بر پایه این گزارش، تولید این بخاری در مقایسه با بخاری‌های کم بازده ۲۵ درصد کاهش مصرف گاز را در بر خواهد داشت که با توجه به تولید ۱۰۰ دستگاه، سالیانه در هر بخاری ۲۵۰ متر مکعب صرفه جویی گاز محقق خواهد شد. [n] صرفه جویی سالیانه ۸ میلیارد مترمکعب در مصرف گاز طبیعی، رونق تولید در صنعت و ایجاد اشتغال بدون سرمایه گذاری جدید و صادرات محصول با کیفیت برتر و ایجاد درآمد ارزی، از جمله اهداف دراز مدت اجرای این پروژه است.\n",
            "سوخت\n"
          ]
        },
        {
          "output_type": "stream",
          "name": "stderr",
          "text": [
            "/usr/local/lib/python3.10/dist-packages/transformers/generation/utils.py:1262: UserWarning: Input length of input_ids is 419, but `max_length` is set to 11. This can lead to unexpected behavior. You should consider increasing `max_new_tokens`.\n",
            "  warnings.warn(\n",
            "100%|██████████| 563/563 [05:14<00:00,  1.79it/s]\n"
          ]
        },
        {
          "output_type": "stream",
          "name": "stdout",
          "text": [
            "\n",
            "Average Training Loss: 1.2569132964945602. Epoch time: 0:05:15\n",
            "\n"
          ]
        },
        {
          "output_type": "stream",
          "name": "stderr",
          "text": [
            "100%|██████████| 63/63 [00:12<00:00,  5.25it/s]\n",
            " 33%|███▎      | 1/3 [05:26<10:53, 326.99s/it]"
          ]
        },
        {
          "output_type": "stream",
          "name": "stdout",
          "text": [
            "\n",
            "Validation loss: 2.7039196850761535. Validation Time: 0:00:12\n",
            "\n",
            "Beginning epoch 2 of 3\n"
          ]
        },
        {
          "output_type": "stream",
          "name": "stderr",
          "text": [
            " 53%|█████▎    | 300/563 [02:49<02:27,  1.78it/s]"
          ]
        },
        {
          "output_type": "stream",
          "name": "stdout",
          "text": [
            "\n",
            "Batch 300 of 563. Loss:1.3600119352340698. Time:0:02:49\n",
            "Example output: به گزارش ایمنا، شهرام وارسته از جذب درآمد ۴۷ میلیارد تومانی این منطقه در شش ماه ابتدای سال جاری خبر داد و اظهار کرد: این میزان درآمد نسبت به همین بازه زمانی در سال گذشته حدودا ۱۹۰ درصد افزایش داشته است. [n] وی درآمد منطقهک شهرداری فردیس در شهریور ماه را حدودا ۹ میلیارد تومان اعلام کرد و عنوان کرد: میزان درآمد شهرداری‌ها با رایه خدمات هر چه بهتر به شهروندان ارتباط مستقیم دارد، مطمئنا مردم از همه خدمات ارایه شده توسط شهرداری آگاه نیستند؛ این در حالیست که همه هزینه‌های پرداختی به شهرداری واضح و روشن است و این موضوع وظیفه شهرداری‌ها را در شفاف‌سازی درآمد و ارایه خدمات دشوار ساخته است. [n] مدیر منطقهک شهرداری فردیس افزود: شهرداری‌ها با داشتن درآمدهای پایدار گام‌های موثری در پیش رفت و توسعه شهری پایدار برمی‌دارند، ایجاد درآمد پایدار در منطقهک شهرداری فردیس، یکی از مهم‌ترین اهداف ما از ابتدای کار تا امروز بوده است. [n] وارسته با اشاره به ارایه طرح‌های درآمدی منطقهک شهرداری فردیس، عنوان کرد: روند رو به رشد درآمد این منطقه در ماه‌های گذشته گویای وجود برنامه‌های درآمدی با مطالعه و طرح‌های کارشناسی با دقت بالا است. [n] وی با بیان اینکه شهرداری فردیس از ابتدای استقلال سعی در ایجاد درآمد پایدار و ارایه خدمات متمایز داشته است، تاکید کرد: با وجود روند کند ساخت و ساز نسبت به سال‌های گذشته و کاهش درآمدهای شهرداری از محل صدور پروانه‌های ساختمانی، منطقهک شهرداری فردیس در ایجاد راهکارهای درآمدی پیشتاز است و سطح خدمات ارایه شده با توجه به اجرای پروژه‌های مختلف نیز بالا بوده است. [n] مدیر منطقهک شهرداری فردیس گفت: اجرای سیاست‌های تشویقی و ایجاد راه‌کارهای موثر برای ایجاد منابع پایدار درآمدی و بالا بردن درآمد این منطقه بوده است.\n",
            "مدیر\n"
          ]
        },
        {
          "output_type": "stream",
          "name": "stderr",
          "text": [
            "/usr/local/lib/python3.10/dist-packages/transformers/generation/utils.py:1262: UserWarning: Input length of input_ids is 351, but `max_length` is set to 11. This can lead to unexpected behavior. You should consider increasing `max_new_tokens`.\n",
            "  warnings.warn(\n",
            "100%|██████████| 563/563 [05:17<00:00,  1.77it/s]\n"
          ]
        },
        {
          "output_type": "stream",
          "name": "stdout",
          "text": [
            "\n",
            "Average Training Loss: 1.256969622142785. Epoch time: 0:05:17\n",
            "\n"
          ]
        },
        {
          "output_type": "stream",
          "name": "stderr",
          "text": [
            "100%|██████████| 63/63 [00:11<00:00,  5.25it/s]\n",
            " 67%|██████▋   | 2/3 [10:56<05:28, 328.46s/it]"
          ]
        },
        {
          "output_type": "stream",
          "name": "stdout",
          "text": [
            "\n",
            "Validation loss: 2.7039196850761535. Validation Time: 0:00:12\n",
            "\n",
            "Beginning epoch 3 of 3\n"
          ]
        },
        {
          "output_type": "stream",
          "name": "stderr",
          "text": [
            " 53%|█████▎    | 300/563 [02:49<02:28,  1.77it/s]"
          ]
        },
        {
          "output_type": "stream",
          "name": "stdout",
          "text": [
            "\n",
            "Batch 300 of 563. Loss:1.383077621459961. Time:0:02:50\n",
            "Example output: به گزارش خبرنگار شانا، نمایندگان در نشست علنی امروز (سه‌شنبه، ۲۱ اردیبهشت ماه) مجلس شورای اسلامی، در جریان بررسی طرح تقویت و توسعه نظام استاندارد با مواد ۵۶، ۵۷ و ۵۹ این طرح تصویب شد. [n] در ماده ۵۶ این طرح منابع مالی سازمان استاندارد مشخص شده که به شرح زیر است: [n] ۱. اعتباراتی که همه ساله به صورت کمک و نیز غیر آن طی ردیفهای مربوط در بودجه سالانه کشور منظور می‌شود. [n] ۲. هدایا و کمکهای اشخاص حقیقی و حقوقی از سوی اشخاص غیر ذینفع [n] ۳. درآمدهای حاصل از فروش باقی مانده نمونه‌های کالا [n] براساس ماده ۵۷ این طرح بودجه سازمان با پیشنهاد رئیس سازمان و تصویب شورای عالی استاندارد توسط سازمان مدیریت و برنامه ریزی کشور در لایحه بودجه سنواتی درج می‌شود. [n] نمایندگان همچنین در جریان بررسی ماده ۵۷ عبارت خزانه داری کل کشور مکلف است ۱۰۰ درصد اعتبار مصوب را به سازمان مذکور پرداخت کنند به دلیل مغایرت با برنامه حذف کردند و پس از آن اصل ماده ۵۷ تصویب شد. [n] براساس ماده ۵۹ این طرح سازمان استاندارد موظف است به منظور بهره گیری از دانش و فناوریهای نوین استانداردسازی اقدامهای لازم را برای توسعه، تجهیز و نوسازی آزمایشگاههای مربوطه و ارتقای دانش فنی نیروی انسانی به عمل آورد و اعتبارهای لازم را در بودجه سالانه پیش بینی کند.\n",
            "نمای\n"
          ]
        },
        {
          "output_type": "stream",
          "name": "stderr",
          "text": [
            "/usr/local/lib/python3.10/dist-packages/transformers/generation/utils.py:1262: UserWarning: Input length of input_ids is 262, but `max_length` is set to 11. This can lead to unexpected behavior. You should consider increasing `max_new_tokens`.\n",
            "  warnings.warn(\n",
            "100%|██████████| 563/563 [05:17<00:00,  1.77it/s]\n"
          ]
        },
        {
          "output_type": "stream",
          "name": "stdout",
          "text": [
            "\n",
            "Average Training Loss: 1.257806018444827. Epoch time: 0:05:18\n",
            "\n"
          ]
        },
        {
          "output_type": "stream",
          "name": "stderr",
          "text": [
            "100%|██████████| 63/63 [00:11<00:00,  5.26it/s]\n",
            "100%|██████████| 3/3 [16:26<00:00, 328.74s/it]"
          ]
        },
        {
          "output_type": "stream",
          "name": "stdout",
          "text": [
            "\n",
            "Validation loss: 2.7039196850761535. Validation Time: 0:00:12\n",
            "\n",
            "Total training took 0:16:26\n"
          ]
        },
        {
          "output_type": "stream",
          "name": "stderr",
          "text": [
            "\n"
          ]
        }
      ]
    },
    {
      "cell_type": "code",
      "source": [
        "import seaborn as sns\n",
        "import matplotlib.pyplot as plt\n",
        "%matplotlib inline\n",
        "\n",
        "pd.set_option('display.precision', 2)\n",
        "df_stats = pd.DataFrame(data=training_stats)\n",
        "df_stats = df_stats.set_index('epoch')\n",
        "\n",
        "# Use plot styling from seaborn.\n",
        "sns.set(style='darkgrid')\n",
        "\n",
        "# Increase the plot size and font size.\n",
        "sns.set(font_scale=1.5)\n",
        "plt.rcParams[\"figure.figsize\"] = (12,6)\n",
        "\n",
        "# Plot the learning curve.\n",
        "plt.plot(df_stats['Training Loss'], 'b-o', label=\"Training\")\n",
        "plt.plot(df_stats['Valid. Loss'], 'g-o', label=\"Validation\")\n",
        "\n",
        "# Label the plot.\n",
        "plt.title(\"Training & Validation Loss\")\n",
        "plt.xlabel(\"Epoch\")\n",
        "plt.ylabel(\"Loss\")\n",
        "plt.legend()\n",
        "plt.xticks([1, 2, 3, 4])\n",
        "\n",
        "plt.show()"
      ],
      "metadata": {
        "id": "15P4_bT1z3-O",
        "colab": {
          "base_uri": "https://localhost:8080/",
          "height": 563
        },
        "outputId": "be729247-31be-4dab-fe9d-b3734785eefc"
      },
      "execution_count": 50,
      "outputs": [
        {
          "output_type": "display_data",
          "data": {
            "text/plain": [
              "<Figure size 1200x600 with 1 Axes>"
            ],
            "image/png": "[encoded data removed]"
          },
          "metadata": {}
        }
      ]
    },
    {
      "cell_type": "code",
      "source": [
        "import os\n",
        "\n",
        "output_dir = '/content/gpt2-fa-summary'\n",
        "os.makedirs(output_dir, exist_ok=True)\n",
        "\n",
        "model.save_pretrained(output_dir)\n",
        "tokenizer.save_pretrained(output_dir)\n",
        "configuration.save_pretrained(output_dir)\n",
        "!cp /content/gpt2/tokenizer.json /content/gpt2-fa-summary/tf"
      ],
      "metadata": {
        "id": "6yFd1mPv0DSO"
      },
      "execution_count": 43,
      "outputs": []
    },
    {
      "cell_type": "code",
      "source": [
        "from transformers import TFAutoModelForCausalLM,AutoModelForCausalLM"
      ],
      "metadata": {
        "id": "E1wWz1Jf1AbZ"
      },
      "execution_count": 35,
      "outputs": []
    },
    {
      "cell_type": "code",
      "source": [
        "tf_model = TFAutoModelForCausalLM.from_pretrained(\"/content/gpt2-fa-summary/\", from_pt=True)\n",
        "print(tf_model.summary())\n",
        "tf_model.save_pretrained(\"/content/gpt2-fa-summary/\")"
      ],
      "metadata": {
        "id": "u3Fsh6QV0PFK",
        "colab": {
          "base_uri": "https://localhost:8080/"
        },
        "outputId": "64e79f02-a48f-4d6e-a21a-e9cc9e22cfc0"
      },
      "execution_count": 44,
      "outputs": [
        {
          "output_type": "stream",
          "name": "stderr",
          "text": [
            "Some weights of the PyTorch model were not used when initializing the TF 2.0 model TFGPT2LMHeadModel: ['lm_head.weight']\n",
            "- This IS expected if you are initializing TFGPT2LMHeadModel from a PyTorch model trained on another task or with another architecture (e.g. initializing a TFBertForSequenceClassification model from a BertForPreTraining model).\n",
            "- This IS NOT expected if you are initializing TFGPT2LMHeadModel from a PyTorch model that you expect to be exactly identical (e.g. initializing a TFBertForSequenceClassification model from a BertForSequenceClassification model).\n",
            "All the weights of TFGPT2LMHeadModel were initialized from the PyTorch model.\n",
            "If your task is similar to the task the model of the checkpoint was trained on, you can already use TFGPT2LMHeadModel for predictions without further training.\n"
          ]
        },
        {
          "output_type": "stream",
          "name": "stdout",
          "text": [
            "Model: \"tfgpt2lm_head_model_2\"\n",
            "_________________________________________________________________\n",
            " Layer (type)                Output Shape              Param #   \n",
            "=================================================================\n",
            " transformer (TFGPT2MainLaye  multiple                 118099200 \n",
            " r)                                                              \n",
            "                                                                 \n",
            "=================================================================\n",
            "Total params: 118,099,200\n",
            "Trainable params: 118,099,200\n",
            "Non-trainable params: 0\n",
            "_________________________________________________________________\n",
            "None\n"
          ]
        }
      ]
    },
    {
      "cell_type": "code",
      "source": [
        "from transformers import pipeline, set_seed\n",
        "generator = pipeline('text-generation', model='./gpt2-fa-summary')\n",
        "set_seed(42)\n",
        "genrated_summary=generator(\" با وجود گذشت دو سال از دولت سیزدهم و با وجود وعده‌های انتخاباتی ابراهیم رییسی درباره تورم تک‌رقمی، اما آمارها از افزایش نرخ تورم به حدود ۴۷.۵ درصد حکایت دارد. این در شرایطی است که مقامات دولتی بدون استناد به آمارهای رسمی دولتی، از کاهش نرخ تورم در اقتصاد ایران سخن می‌گویند. سید احسان خاندوزی، وزیر اقتصاد در تازه‌ترین اظهارنظر عنوان کرده که در برخی شاخص‌ها از جمله کنترل نقدینگی که برای تورم ضروری است، بانک مرکزی از هدف جلوتر است.\"\n",
        "            ,max_length=512, num_return_sequences=1)\n",
        "response={}\n",
        "for dictionary in genrated_summary:\n",
        "  for key, value in dictionary.items():\n",
        "      if key == 'generated_text':\n",
        "          response['خلاصه تولیدی'] = value\n",
        "      else:\n",
        "          response[key] = value\n",
        "response"
      ],
      "metadata": {
        "colab": {
          "base_uri": "https://localhost:8080/"
        },
        "id": "V3q5q_cGMNMa",
        "outputId": "d54d9738-cebe-4903-c90a-f98d46355ab3"
      },
      "execution_count": 57,
      "outputs": [
        {
          "output_type": "execute_result",
          "data": {
            "text/plain": [
              "{'خلاصه تولیدی': ' با وجود گذشت دو سال از دولت سیزدهم و با وجود وعده\\u200cهای انتخاباتی ابراهیم رییسی درباره تورم تک\\u200cرقمی، اما آمارها از افزایش نرخ تورم به حدود ۴۷.۵ درصد حکایت دارد. این در شرایطی است که مقامات دولتی بدون استناد به آمارهای رسمی دولتی، از کاهش نرخ تورم در اقتصاد ایران سخن می\\u200cگویند. سید احسان خاندوزی، وزیر اقتصاد در تازه\\u200cترین اظهارنظر عنوان کرده که در برخی شاخص\\u200cها از جمله کنترل نقدینگی که برای تورم ضروری است، بانک مرکزی از هدف جلوتر است. [n] به گفته این مقام مسئول، با توجه به اینکه در کشور از زمان شیوع ویروس کرونا، تورم در حدود ۳۶ درصد افزایش داشته است، اما کاهش نرخ تورم در بسیاری از شاخص\\u200cهای اقتصادی، همچنان از اهمیت بالایی برخوردار است. [n] این عضو کابینه دولت می\\u200cگوید: در دولت دوازدهم، سیاست\\u200cهای مالی در اولویت نبوده اما با این حال، دولت سیاست\\u200cهای کنترلی را در نظر گرفته است.وزیر اقتصاد گفت: سیاست\\u200cهای اقتصاد مقاومتی در حال اجرا است.'}"
            ]
          },
          "metadata": {},
          "execution_count": 57
        }
      ]
    },
    {
      "cell_type": "code",
      "source": [
        "!zip -r gpt2-fa-summary.zip 'gpt2-fa-summary'"
      ],
      "metadata": {
        "colab": {
          "base_uri": "https://localhost:8080/"
        },
        "id": "kRWvZ3OTlY9E",
        "outputId": "7443d854-f66f-46ae-ddec-e5f934146141"
      },
      "execution_count": 51,
      "outputs": [
        {
          "output_type": "stream",
          "name": "stdout",
          "text": [
            "updating: gpt2-fa-summary/ (stored 0%)\n",
            "updating: gpt2-fa-summary/config.json (deflated 52%)\n",
            "updating: gpt2-fa-summary/generation_config.json (deflated 29%)\n",
            "updating: gpt2-fa-summary/tokenizer_config.json (deflated 39%)\n",
            "updating: gpt2-fa-summary/pytorch_model.bin (deflated 7%)\n",
            "updating: gpt2-fa-summary/merges.txt (deflated 74%)\n",
            "updating: gpt2-fa-summary/vocab.json (deflated 73%)\n",
            "updating: gpt2-fa-summary/tf (deflated 79%)\n",
            "updating: gpt2-fa-summary/added_tokens.json (stored 0%)\n",
            "updating: gpt2-fa-summary/tf_model.h5 (deflated 7%)\n",
            "updating: gpt2-fa-summary/tokenizer.json (deflated 79%)\n",
            "updating: gpt2-fa-summary/special_tokens_map.json (deflated 45%)\n"
          ]
        }
      ]
    },
    {
      "cell_type": "code",
      "source": [
        "!mv '/persian_text_summary.zip' '/drive/MyDrive'"
      ],
      "metadata": {
        "id": "TtBwsGbslzmU"
      },
      "execution_count": null,
      "outputs": []
    }
  ],
  "metadata": {
    "accelerator": "GPU",
    "colab": {
      "provenance": [],
      "gpuType": "T4"
    },
    "kernelspec": {
      "display_name": "Python 3",
      "name": "python3"
    },
    "language_info": {
      "name": "python"
    }
  },
  "nbformat": 4,
  "nbformat_minor": 0
}