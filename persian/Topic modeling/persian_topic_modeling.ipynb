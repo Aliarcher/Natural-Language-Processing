{
 "cells": [
  {
   "cell_type": "markdown",
   "metadata": {},
   "source": [
    "Import Necessary libraries"
   ]
  },
  {
   "cell_type": "code",
   "execution_count": 69,
   "metadata": {},
   "outputs": [],
   "source": [
    "import pandas as pd\n",
    "import matplotlib.pyplot as plt\n",
    "import seaborn as sns\n",
    "import arabic_reshaper                                              \n",
    "from bidi.algorithm import get_display                                      \n",
    "from arabic_reshaper import reshape \n",
    "import persian_wordcloud  \n",
    "from sklearn.model_selection import train_test_split\n",
    "from sklearn.metrics import classification_report\n",
    "from sklearn.feature_extraction.text import CountVectorizer\n",
    "from sklearn.feature_extraction.text import TfidfVectorizer\n",
    "from sklearn.neighbors import KNeighborsClassifier\n",
    "from sklearn.tree import DecisionTreeClassifier\n",
    "from sklearn.ensemble import RandomForestClassifier\n",
    "from sklearn import metrics\n",
    "import gensim\n",
    "from gensim import corpora\n",
    "from sklearn.naive_bayes import MultinomialNB"
   ]
  },
  {
   "cell_type": "markdown",
   "metadata": {},
   "source": [
    "Read Dataset "
   ]
  },
  {
   "cell_type": "code",
   "execution_count": 2,
   "metadata": {},
   "outputs": [],
   "source": [
    "df=pd.read_csv('data/asriran.csv',encoding='utf-8-sig')"
   ]
  },
  {
   "cell_type": "code",
   "execution_count": 3,
   "metadata": {},
   "outputs": [
    {
     "name": "stdout",
     "output_type": "stream",
     "text": [
      "<class 'pandas.core.frame.DataFrame'>\n",
      "RangeIndex: 339834 entries, 0 to 339833\n",
      "Data columns (total 7 columns):\n",
      " #   Column     Non-Null Count   Dtype \n",
      "---  ------     --------------   ----- \n",
      " 0   title      339834 non-null  object\n",
      " 1   shortlink  339834 non-null  object\n",
      " 2   time       339834 non-null  object\n",
      " 3   service    339834 non-null  object\n",
      " 4   subgroup   339834 non-null  object\n",
      " 5   abstract   155497 non-null  object\n",
      " 6   body       295560 non-null  object\n",
      "dtypes: object(7)\n",
      "memory usage: 18.1+ MB\n"
     ]
    }
   ],
   "source": [
    "df.info()"
   ]
  },
  {
   "cell_type": "code",
   "execution_count": 4,
   "metadata": {},
   "outputs": [
    {
     "data": {
      "text/html": [
       "<div>\n",
       "<style scoped>\n",
       "    .dataframe tbody tr th:only-of-type {\n",
       "        vertical-align: middle;\n",
       "    }\n",
       "\n",
       "    .dataframe tbody tr th {\n",
       "        vertical-align: top;\n",
       "    }\n",
       "\n",
       "    .dataframe thead th {\n",
       "        text-align: right;\n",
       "    }\n",
       "</style>\n",
       "<table border=\"1\" class=\"dataframe\">\n",
       "  <thead>\n",
       "    <tr style=\"text-align: right;\">\n",
       "      <th></th>\n",
       "      <th>title</th>\n",
       "      <th>shortlink</th>\n",
       "      <th>time</th>\n",
       "      <th>service</th>\n",
       "      <th>subgroup</th>\n",
       "      <th>abstract</th>\n",
       "      <th>body</th>\n",
       "    </tr>\n",
       "  </thead>\n",
       "  <tbody>\n",
       "    <tr>\n",
       "      <th>count</th>\n",
       "      <td>339834</td>\n",
       "      <td>339834</td>\n",
       "      <td>339834</td>\n",
       "      <td>339834</td>\n",
       "      <td>339834</td>\n",
       "      <td>155497</td>\n",
       "      <td>295560</td>\n",
       "    </tr>\n",
       "    <tr>\n",
       "      <th>unique</th>\n",
       "      <td>334636</td>\n",
       "      <td>339833</td>\n",
       "      <td>319624</td>\n",
       "      <td>2</td>\n",
       "      <td>23</td>\n",
       "      <td>154254</td>\n",
       "      <td>290927</td>\n",
       "    </tr>\n",
       "    <tr>\n",
       "      <th>top</th>\n",
       "      <td>صفحه اول روزنامه های امروز (عکس)</td>\n",
       "      <td>https://www.asriran.com/0035SR</td>\n",
       "      <td>۱۳:۲۹ - ۱۱ آذر ۱۳۹۵</td>\n",
       "      <td>صفحه نخست</td>\n",
       "      <td>اجتماعی</td>\n",
       "      <td>مهرداد خدیر</td>\n",
       "      <td>عصر ایران</td>\n",
       "    </tr>\n",
       "    <tr>\n",
       "      <th>freq</th>\n",
       "      <td>746</td>\n",
       "      <td>2</td>\n",
       "      <td>11</td>\n",
       "      <td>327099</td>\n",
       "      <td>97274</td>\n",
       "      <td>52</td>\n",
       "      <td>772</td>\n",
       "    </tr>\n",
       "  </tbody>\n",
       "</table>\n",
       "</div>"
      ],
      "text/plain": [
       "                                   title                       shortlink  \\\n",
       "count                             339834                          339834   \n",
       "unique                            334636                          339833   \n",
       "top     صفحه اول روزنامه های امروز (عکس)  https://www.asriran.com/0035SR   \n",
       "freq                                 746                               2   \n",
       "\n",
       "                       time    service subgroup     abstract       body  \n",
       "count                339834     339834   339834       155497     295560  \n",
       "unique               319624          2       23       154254     290927  \n",
       "top     ۱۳:۲۹ - ۱۱ آذر ۱۳۹۵  صفحه نخست  اجتماعی  مهرداد خدیر  عصر ایران  \n",
       "freq                     11     327099    97274           52        772  "
      ]
     },
     "execution_count": 4,
     "metadata": {},
     "output_type": "execute_result"
    }
   ],
   "source": [
    "df.describe()"
   ]
  },
  {
   "cell_type": "code",
   "execution_count": 5,
   "metadata": {},
   "outputs": [
    {
     "data": {
      "text/html": [
       "<div>\n",
       "<style scoped>\n",
       "    .dataframe tbody tr th:only-of-type {\n",
       "        vertical-align: middle;\n",
       "    }\n",
       "\n",
       "    .dataframe tbody tr th {\n",
       "        vertical-align: top;\n",
       "    }\n",
       "\n",
       "    .dataframe thead th {\n",
       "        text-align: right;\n",
       "    }\n",
       "</style>\n",
       "<table border=\"1\" class=\"dataframe\">\n",
       "  <thead>\n",
       "    <tr style=\"text-align: right;\">\n",
       "      <th></th>\n",
       "      <th>title</th>\n",
       "      <th>shortlink</th>\n",
       "      <th>time</th>\n",
       "      <th>service</th>\n",
       "      <th>subgroup</th>\n",
       "      <th>abstract</th>\n",
       "      <th>body</th>\n",
       "    </tr>\n",
       "  </thead>\n",
       "  <tbody>\n",
       "    <tr>\n",
       "      <th>0</th>\n",
       "      <td>پلیس: جرائم خشن و مسلحانه در تهران کاهش یافته است</td>\n",
       "      <td>https://www.asriran.com/003YoB</td>\n",
       "      <td>۰۸:۴۱ - ۲۳ تير ۱۴۰۱</td>\n",
       "      <td>صفحه نخست</td>\n",
       "      <td>عمومی</td>\n",
       "      <td>آمارهای پلیس نشان می‌دهد که جرائم خشن و مسلحان...</td>\n",
       "      <td>رئیس پلیس آگاهی تهران بزرگ اعلام کرد که موضوع ...</td>\n",
       "    </tr>\n",
       "    <tr>\n",
       "      <th>1</th>\n",
       "      <td>وزیر بهداشت:\\r\\nآغاز اجرای طرح جامع \"دارویار\"/...</td>\n",
       "      <td>https://www.asriran.com/003YoC</td>\n",
       "      <td>۰۸:۴۷ - ۲۳ تير ۱۴۰۱</td>\n",
       "      <td>صفحه نخست</td>\n",
       "      <td>اخبار سلامت</td>\n",
       "      <td>هدف اصلی وزارت بهداشت از این طرح این است که پو...</td>\n",
       "      <td>وزیر بهداشت جزییات طرح \"دارویار\" که اجرای آن آ...</td>\n",
       "    </tr>\n",
       "    <tr>\n",
       "      <th>2</th>\n",
       "      <td>وزارت بهداشت: قیمت دارو برای مصرف کننده ثابت م...</td>\n",
       "      <td>https://www.asriran.com/003YoF</td>\n",
       "      <td>۰۹:۰۸ - ۲۳ تير ۱۴۰۱</td>\n",
       "      <td>صفحه نخست</td>\n",
       "      <td>اجتماعی</td>\n",
       "      <td>NaN</td>\n",
       "      <td>سخنگوی وزارت بهداشت، درمان و آموزش پزشکی در تو...</td>\n",
       "    </tr>\n",
       "    <tr>\n",
       "      <th>3</th>\n",
       "      <td>معاون رئیسی: مردم به زودی شاهد اثرات مثبت اقدا...</td>\n",
       "      <td>https://www.asriran.com/003YZP</td>\n",
       "      <td>۱۶:۴۶ - ۱۶ تير ۱۴۰۱</td>\n",
       "      <td>صفحه نخست</td>\n",
       "      <td>سیاسی</td>\n",
       "      <td>معاون امور مجلس رئیس جمهور: استان گیلان دارای ...</td>\n",
       "      <td>معاون رئیس جمهور گفت: دولت برنامه های راهبردی ...</td>\n",
       "    </tr>\n",
       "    <tr>\n",
       "      <th>4</th>\n",
       "      <td>دستگیری سارق ۲۰ هزار دلاری ارز دیجیتال در گلستان</td>\n",
       "      <td>https://www.asriran.com/003YZN</td>\n",
       "      <td>۱۶:۴۱ - ۱۶ تير ۱۴۰۱</td>\n",
       "      <td>صفحه نخست</td>\n",
       "      <td>اجتماعی</td>\n",
       "      <td>شهروندان توصیه‌های پلیس فتا را جدی بگیرند و در...</td>\n",
       "      <td>رییس پلیس فتا فرماندهی انتظامی گلستان گفت: سار...</td>\n",
       "    </tr>\n",
       "  </tbody>\n",
       "</table>\n",
       "</div>"
      ],
      "text/plain": [
       "                                               title  \\\n",
       "0  پلیس: جرائم خشن و مسلحانه در تهران کاهش یافته است   \n",
       "1  وزیر بهداشت:\\r\\nآغاز اجرای طرح جامع \"دارویار\"/...   \n",
       "2  وزارت بهداشت: قیمت دارو برای مصرف کننده ثابت م...   \n",
       "3  معاون رئیسی: مردم به زودی شاهد اثرات مثبت اقدا...   \n",
       "4   دستگیری سارق ۲۰ هزار دلاری ارز دیجیتال در گلستان   \n",
       "\n",
       "                        shortlink                 time    service  \\\n",
       "0  https://www.asriran.com/003YoB  ۰۸:۴۱ - ۲۳ تير ۱۴۰۱  صفحه نخست   \n",
       "1  https://www.asriran.com/003YoC  ۰۸:۴۷ - ۲۳ تير ۱۴۰۱  صفحه نخست   \n",
       "2  https://www.asriran.com/003YoF  ۰۹:۰۸ - ۲۳ تير ۱۴۰۱  صفحه نخست   \n",
       "3  https://www.asriran.com/003YZP  ۱۶:۴۶ - ۱۶ تير ۱۴۰۱  صفحه نخست   \n",
       "4  https://www.asriran.com/003YZN  ۱۶:۴۱ - ۱۶ تير ۱۴۰۱  صفحه نخست   \n",
       "\n",
       "      subgroup                                           abstract  \\\n",
       "0        عمومی  آمارهای پلیس نشان می‌دهد که جرائم خشن و مسلحان...   \n",
       "1  اخبار سلامت  هدف اصلی وزارت بهداشت از این طرح این است که پو...   \n",
       "2      اجتماعی                                                NaN   \n",
       "3        سیاسی  معاون امور مجلس رئیس جمهور: استان گیلان دارای ...   \n",
       "4      اجتماعی  شهروندان توصیه‌های پلیس فتا را جدی بگیرند و در...   \n",
       "\n",
       "                                                body  \n",
       "0  رئیس پلیس آگاهی تهران بزرگ اعلام کرد که موضوع ...  \n",
       "1  وزیر بهداشت جزییات طرح \"دارویار\" که اجرای آن آ...  \n",
       "2  سخنگوی وزارت بهداشت، درمان و آموزش پزشکی در تو...  \n",
       "3  معاون رئیس جمهور گفت: دولت برنامه های راهبردی ...  \n",
       "4  رییس پلیس فتا فرماندهی انتظامی گلستان گفت: سار...  "
      ]
     },
     "execution_count": 5,
     "metadata": {},
     "output_type": "execute_result"
    }
   ],
   "source": [
    "df.head()"
   ]
  },
  {
   "cell_type": "markdown",
   "metadata": {},
   "source": [
    "EDA"
   ]
  },
  {
   "cell_type": "code",
   "execution_count": 8,
   "metadata": {},
   "outputs": [
    {
     "data": {
      "image/png": "[encoded data removed]",
      "text/plain": [
       "<Figure size 640x480 with 1 Axes>"
      ]
     },
     "metadata": {},
     "output_type": "display_data"
    }
   ],
   "source": [
    "labels = list(set(df.subgroup.tolist()))\n",
    "persian_labels = [get_display(reshape(l)) for l in labels]                  \n",
    "sizes = df.subgroup.value_counts()                                                                                             \n",
    "plt.pie(sizes, labels=persian_labels, autopct='%1.1f%%')    \n",
    "plt.show()"
   ]
  },
  {
   "cell_type": "code",
   "execution_count": 21,
   "metadata": {},
   "outputs": [
    {
     "data": {
      "image/png": "[encoded data removed]",
      "text/plain": [
       "<Figure size 640x480 with 1 Axes>"
      ]
     },
     "metadata": {},
     "output_type": "display_data"
    }
   ],
   "source": [
    "plt.bar(persian_labels,df.subgroup.value_counts(), align='center', alpha=0.5)\n",
    "plt.xticks(rotation=90)\n",
    "plt.show()"
   ]
  },
  {
   "cell_type": "markdown",
   "metadata": {},
   "source": [
    "Statistical Methods and Machine learning"
   ]
  },
  {
   "cell_type": "markdown",
   "metadata": {},
   "source": [
    "Bag of Words and Ngram with KNN"
   ]
  },
  {
   "cell_type": "code",
   "execution_count": 32,
   "metadata": {},
   "outputs": [],
   "source": [
    "count_vect = CountVectorizer(ngram_range=(1,5))\n",
    "\n",
    "# Transform the training data\n",
    "train_bow = count_vect.fit_transform(df['title'].values)\n",
    "\n",
    "# Get the feature names\n",
    "feature_names_bow = count_vect.get_feature_names_out()"
   ]
  },
  {
   "cell_type": "code",
   "execution_count": 41,
   "metadata": {},
   "outputs": [
    {
     "data": {
      "text/plain": [
       "'اجتماعی'"
      ]
     },
     "execution_count": 41,
     "metadata": {},
     "output_type": "execute_result"
    }
   ],
   "source": [
    "knn = KNeighborsClassifier(n_neighbors=len(set(df.subgroup.tolist())))\n",
    "\n",
    "# Fit the model on the training data\n",
    "knn.fit(train_bow, df.subgroup.to_list())\n",
    "\n",
    "text = 'سناتور جمهوری‌خواه؛ آزادسازی پول به ازای آزادی زندانیان دوتابعیتی \"بدعتی خطرناک\" است'\n",
    "\n",
    "# Transform the test data using the same feature set\n",
    "test_bow = count_vect.transform([text])\n",
    "\n",
    "# Predict the label for the test data\n",
    "predict = knn.predict(test_bow)\n",
    "predict[0]"
   ]
  },
  {
   "cell_type": "code",
   "execution_count": 54,
   "metadata": {},
   "outputs": [
    {
     "data": {
      "text/plain": [
       "'داستان کوتاه'"
      ]
     },
     "execution_count": 54,
     "metadata": {},
     "output_type": "execute_result"
    }
   ],
   "source": [
    "knn = KNeighborsClassifier(n_neighbors=len(set(df.subgroup.tolist())))\n",
    "\n",
    "# Fit the model on the training data\n",
    "knn.fit(train_bow, df.subgroup.to_list())\n",
    "\n",
    "text = 'مسابقه شهراورد بین استقلال و پرسپولیس با نتیجه 1-0 تموم شد'\n",
    "\n",
    "# Transform the test data using the same feature set\n",
    "test_bow = count_vect.transform([text])\n",
    "\n",
    "# Predict the label for the test data\n",
    "predict = knn.predict(test_bow)\n",
    "predict[0]"
   ]
  },
  {
   "cell_type": "code",
   "execution_count": 58,
   "metadata": {},
   "outputs": [
    {
     "data": {
      "text/plain": [
       "'اجتماعی'"
      ]
     },
     "execution_count": 58,
     "metadata": {},
     "output_type": "execute_result"
    }
   ],
   "source": [
    "knn = KNeighborsClassifier(n_neighbors=len(set(df.subgroup.tolist())))\n",
    "\n",
    "# Fit the model on the training data\n",
    "knn.fit(train_bow, df.subgroup.to_list())\n",
    "\n",
    "text = 'بیماری های قلبی ریوی با گسترش آلودگی هوا زیاد شده است'\n",
    "\n",
    "# Transform the test data using the same feature set\n",
    "test_bow = count_vect.transform([text])\n",
    "\n",
    "# Predict the label for the test data\n",
    "predict = knn.predict(test_bow)\n",
    "predict[0]"
   ]
  },
  {
   "cell_type": "code",
   "execution_count": 60,
   "metadata": {},
   "outputs": [
    {
     "data": {
      "text/plain": [
       "'اجتماعی'"
      ]
     },
     "execution_count": 60,
     "metadata": {},
     "output_type": "execute_result"
    }
   ],
   "source": [
    "knn = KNeighborsClassifier(n_neighbors=len(set(df.subgroup.tolist())))\n",
    "\n",
    "# Fit the model on the training data\n",
    "knn.fit(train_bow, df.subgroup.to_list())\n",
    "\n",
    "text = 'خبرگزاری تسنیم وابسته به سپاه پاسداران جمهوری اسلامی ایران گزارش داد که طالبان عکاس و تدوین‌گر این خبرگزاری را در میدان هوایی کابل بازداشت کرده است. به گزارش تسنیم، محمدحسین ولایتی ۱۰ روز در کابل حضور داشت و هنگام بازگشت به ایران بازداشت شد'\n",
    "\n",
    "# Transform the test data using the same feature set\n",
    "test_bow = count_vect.transform([text])\n",
    "\n",
    "# Predict the label for the test data\n",
    "predict = knn.predict(test_bow)\n",
    "predict[0]\n"
   ]
  },
  {
   "cell_type": "code",
   "execution_count": 67,
   "metadata": {},
   "outputs": [
    {
     "data": {
      "text/plain": [
       "'داستان کوتاه'"
      ]
     },
     "execution_count": 67,
     "metadata": {},
     "output_type": "execute_result"
    }
   ],
   "source": [
    "knn = KNeighborsClassifier(n_neighbors=len(set(df.subgroup.tolist())))\n",
    "\n",
    "# Fit the model on the training data\n",
    "knn.fit(train_bow, df.subgroup.to_list())\n",
    "\n",
    "text = 'شرکت «کارگیل»، یک کشتی باری عظیم با دو بادبان نامنعطف ساخته است تا به کاهش مصرف سوخت کشتی‌های باری در بریتانیا کمک می‌کند.'\n",
    "\n",
    "# Transform the test data using the same feature set\n",
    "test_bow = count_vect.transform([text])\n",
    "\n",
    "# Predict the label for the test data\n",
    "predict = knn.predict(test_bow)\n",
    "predict[0]"
   ]
  },
  {
   "cell_type": "markdown",
   "metadata": {},
   "source": [
    "TF-IDF WITH KNN"
   ]
  },
  {
   "cell_type": "code",
   "execution_count": 36,
   "metadata": {},
   "outputs": [],
   "source": [
    "# Create an instance of TfidfVectorizer\n",
    "vectorizer = TfidfVectorizer()\n",
    "\n",
    "# Fit and transform the documents\n",
    "tfidf_matrix = vectorizer.fit_transform(df['title'].values)\n",
    "\n",
    "# TF-IDF matrix\n",
    "feature_names = vectorizer.get_feature_names_out()\n",
    "\n",
    "# Print the results\n",
    "# for row in range(tfidf_matrix.shape[0]):\n",
    "#     print(\"Document:\", row+1)\n",
    "#     for col in tfidf_matrix[row].nonzero()[1]:\n",
    "#         print(\"  Feature:\", feature_names[col], \" - TF-IDF:\", tfidf_matrix[row, col])"
   ]
  },
  {
   "cell_type": "code",
   "execution_count": 42,
   "metadata": {},
   "outputs": [
    {
     "data": {
      "text/plain": [
       "'بین الملل'"
      ]
     },
     "execution_count": 42,
     "metadata": {},
     "output_type": "execute_result"
    }
   ],
   "source": [
    "nn = KNeighborsClassifier(n_neighbors=len(set(df.subgroup.tolist())))\n",
    "\n",
    "# Fit the model on the training data\n",
    "knn.fit(tfidf_matrix, df.subgroup.to_list())\n",
    "\n",
    "text = 'سناتور جمهوری‌خواه؛ آزادسازی پول به ازای آزادی زندانیان دوتابعیتی \"بدعتی خطرناک\" است'\n",
    "\n",
    "# Transform the test data using the same feature set\n",
    "test_bow = vectorizer.transform([text])\n",
    "\n",
    "# Predict the label for the test data\n",
    "predict = knn.predict(test_bow)\n",
    "predict[0]"
   ]
  },
  {
   "cell_type": "code",
   "execution_count": 53,
   "metadata": {},
   "outputs": [
    {
     "data": {
      "text/plain": [
       "'ورزشی'"
      ]
     },
     "execution_count": 53,
     "metadata": {},
     "output_type": "execute_result"
    }
   ],
   "source": [
    "nn = KNeighborsClassifier(n_neighbors=len(set(df.subgroup.tolist())))\n",
    "\n",
    "# Fit the model on the training data\n",
    "knn.fit(tfidf_matrix, df.subgroup.to_list())\n",
    "\n",
    "text = 'مسابقه شهراورد بین استقلال و پرسپولیس با نتیجه 1-0 تموم شد'\n",
    "\n",
    "# Transform the test data using the same feature set\n",
    "test_bow = vectorizer.transform([text])\n",
    "\n",
    "# Predict the label for the test data\n",
    "predict = knn.predict(test_bow)\n",
    "predict[0]"
   ]
  },
  {
   "cell_type": "code",
   "execution_count": 57,
   "metadata": {},
   "outputs": [
    {
     "data": {
      "text/plain": [
       "'اجتماعی'"
      ]
     },
     "execution_count": 57,
     "metadata": {},
     "output_type": "execute_result"
    }
   ],
   "source": [
    "nn = KNeighborsClassifier(n_neighbors=len(set(df.subgroup.tolist())))\n",
    "\n",
    "# Fit the model on the training data\n",
    "knn.fit(tfidf_matrix, df.subgroup.to_list())\n",
    "\n",
    "text = 'بیماری های قلبی ریوی با گسترش آلودگی هوا زیاد شده است'\n",
    "\n",
    "# Transform the test data using the same feature set\n",
    "test_bow = vectorizer.transform([text])\n",
    "\n",
    "# Predict the label for the test data\n",
    "predict = knn.predict(test_bow)\n",
    "predict[0]"
   ]
  },
  {
   "cell_type": "code",
   "execution_count": 61,
   "metadata": {},
   "outputs": [
    {
     "data": {
      "text/plain": [
       "'بین الملل'"
      ]
     },
     "execution_count": 61,
     "metadata": {},
     "output_type": "execute_result"
    }
   ],
   "source": [
    "nn = KNeighborsClassifier(n_neighbors=len(set(df.subgroup.tolist())))\n",
    "\n",
    "# Fit the model on the training data\n",
    "knn.fit(tfidf_matrix, df.subgroup.to_list())\n",
    "\n",
    "text = 'خبرگزاری تسنیم وابسته به سپاه پاسداران جمهوری اسلامی ایران گزارش داد که طالبان عکاس و تدوین‌گر این خبرگزاری را در میدان هوایی کابل بازداشت کرده است. به گزارش تسنیم، محمدحسین ولایتی ۱۰ روز در کابل حضور داشت و هنگام بازگشت به ایران بازداشت شد'\n",
    "\n",
    "# Transform the test data using the same feature set\n",
    "test_bow = vectorizer.transform([text])\n",
    "\n",
    "# Predict the label for the test data\n",
    "predict = knn.predict(test_bow)\n",
    "predict[0]"
   ]
  },
  {
   "cell_type": "code",
   "execution_count": 66,
   "metadata": {},
   "outputs": [
    {
     "data": {
      "text/plain": [
       "'بین الملل'"
      ]
     },
     "execution_count": 66,
     "metadata": {},
     "output_type": "execute_result"
    }
   ],
   "source": [
    "nn = KNeighborsClassifier(n_neighbors=len(set(df.subgroup.tolist())))\n",
    "\n",
    "# Fit the model on the training data\n",
    "knn.fit(tfidf_matrix, df.subgroup.to_list())\n",
    "\n",
    "text = 'شرکت «کارگیل»، یک کشتی باری عظیم با دو بادبان نامنعطف ساخته است تا به کاهش مصرف سوخت کشتی‌های باری در بریتانیا کمک می‌کند.'\n",
    "\n",
    "# Transform the test data using the same feature set\n",
    "test_bow = vectorizer.transform([text])\n",
    "\n",
    "# Predict the label for the test data\n",
    "predict = knn.predict(test_bow)\n",
    "predict[0]"
   ]
  },
  {
   "cell_type": "markdown",
   "metadata": {},
   "source": [
    "LDA (Latent Dirichlet Allocation)"
   ]
  },
  {
   "cell_type": "code",
   "execution_count": 39,
   "metadata": {},
   "outputs": [],
   "source": [
    "topics={0:'آشپزی',1:'اجتماعی',2:'اخبار سلامت',3:'اقتصادی',4:'بین الملل',5:'حوادث',6:'خواندنی ها و دیدنی ها',7:'داستان کوتاه',8:'دانلود',9:'روانشناسی',10:'سرگرمی',11:'سفر و تفریح',12:'سلامت',13:'سیاست خارجی',14:'سیاسی',15:'علمی',16:'عمومی',17:'فرهنگی/هنری',18:'فناوری و IT',19:'محیط زیست',20:'ورزشی',21:'پیامک',22:'کاربران'}"
   ]
  },
  {
   "cell_type": "code",
   "execution_count": 40,
   "metadata": {},
   "outputs": [
    {
     "name": "stdout",
     "output_type": "stream",
     "text": [
      "Topic #7: 0.142*\"های\" + 0.080*\"از\" + 0.045*\"تا\" + 0.035*\"افزایش\" + 0.030*\"هزار\" + 0.026*\"اول\" + 0.025*\"کاهش\" + 0.024*\"میلیون\" + 0.023*\"در\" + 0.022*\"قیمت\"\n",
      "Topic #4: 0.057*\"از\" + 0.055*\"درباره\" + 0.033*\"است\" + 0.030*\"به\" + 0.023*\"پرونده\" + 0.022*\"الله\" + 0.021*\"آیت‌الله\" + 0.019*\"شورای\" + 0.018*\"کردن\" + 0.018*\"آیت\"\n",
      "Topic #17: 0.042*\"با\" + 0.027*\"در\" + 0.027*\"وزارت\" + 0.027*\"وزیر\" + 0.026*\"اروپا\" + 0.026*\"برای\" + 0.026*\"هستند\" + 0.025*\"دفاع\" + 0.024*\"(+فیلم)\" + 0.022*\"و\"\n",
      "Topic #5: 0.089*\"در\" + 0.031*\"آب\" + 0.031*\"و\" + 0.026*\"آخرین\" + 0.026*\"عراق\" + 0.023*\"بین\" + 0.023*\"وضعیت\" + 0.020*\"است\" + 0.019*\"دستگیری\" + 0.019*\"نمایشگاه\"\n",
      "Topic #14: 0.103*\"در\" + 0.071*\"و\" + 0.028*\"فروش\" + 0.027*\"خودرو\" + 0.026*\"آغاز\" + 0.025*\"لغو\" + 0.021*\"بازار\" + 0.021*\"استان\" + 0.019*\"فردا\" + 0.016*\"زخمی\"\n",
      "Topic #2: 0.228*\"را\" + 0.096*\"کرد\" + 0.052*\"امروز\" + 0.035*\"خود\" + 0.024*\"دست\" + 0.023*\"به\" + 0.020*\"داد\" + 0.018*\"که\" + 0.016*\"برنامه\" + 0.016*\"خانه\"\n",
      "Topic #19: 0.053*\"از\" + 0.051*\"چه\" + 0.035*\"چرا\" + 0.028*\"بازی\" + 0.025*\"ترامپ:\" + 0.025*\"در\" + 0.024*\"و\" + 0.024*\"است؟\" + 0.024*\"حمایت\" + 0.020*\"زنان\"\n",
      "Topic #8: 0.063*\"سال\" + 0.035*\"در\" + 0.030*\"ماه\" + 0.029*\"پایان\" + 0.024*\"از\" + 0.024*\"چند\" + 0.022*\"تا\" + 0.020*\"نشست\" + 0.020*\"تمدید\" + 0.019*\"زیر\"\n",
      "Topic #3: 0.139*\"(عکس)\" + 0.070*\"در\" + 0.054*\"از\" + 0.029*\"پس\" + 0.026*\"و\" + 0.023*\"مراسم\" + 0.021*\"علی\" + 0.021*\"درگذشت\" + 0.021*\"من\" + 0.018*\"ترین\"\n",
      "Topic #11: 0.150*\"(+عکس)\" + 0.058*\"در\" + 0.032*\"به\" + 0.030*\"فیلم\" + 0.030*\"جهان\" + 0.029*\"سفر\" + 0.027*\"کره\" + 0.024*\"جشنواره\" + 0.022*\"جمهوری\" + 0.018*\"و\"\n",
      "Topic #20: 0.047*\"به\" + 0.036*\"نماینده\" + 0.030*\"همه\" + 0.024*\"چگونه\" + 0.023*\"و\" + 0.023*\"از\" + 0.021*\"هر\" + 0.020*\"کاخ\" + 0.019*\"بی\" + 0.018*\"برای\"\n",
      "Topic #15: 0.031*\"پرسپولیس\" + 0.030*\"5\" + 0.030*\"اس\" + 0.029*\"توسط\" + 0.025*\"در\" + 0.024*\"و\" + 0.023*\"فوتبال\" + 0.023*\"ندارد\" + 0.021*\"برای\" + 0.020*\"پیام\"\n",
      "Topic #9: 0.087*\"وزیر\" + 0.039*\"ترکیه\" + 0.033*\"و\" + 0.031*\"خارجه\" + 0.027*\"از\" + 0.027*\"برای\" + 0.025*\"بر\" + 0.021*\"معاون\" + 0.021*\"با\" + 0.018*\"تکذیب\"\n",
      "Topic #13: 0.068*\"را\" + 0.068*\"می\" + 0.047*\"به\" + 0.046*\"که\" + 0.034*\"این\" + 0.026*\"و\" + 0.025*\"با\" + 0.021*\"برجام\" + 0.021*\"شود\" + 0.020*\"هم\"\n",
      "Topic #22: 0.059*\"تهران\" + 0.049*\"در\" + 0.048*\"داعش\" + 0.039*\"شهر\" + 0.029*\"مجلس\" + 0.025*\"طرح\" + 0.023*\"برای\" + 0.020*\"پیش\" + 0.019*\"تغییر\" + 0.018*\"کنید\"\n",
      "Topic #12: 0.118*\"به\" + 0.063*\"ایران\" + 0.057*\"آمریکا\" + 0.056*\"در\" + 0.030*\"روسیه\" + 0.028*\"ترامپ\" + 0.027*\"سوریه\" + 0.023*\"حمله\" + 0.021*\"از\" + 0.020*\"هاشمی\"\n",
      "Topic #21: 0.148*\"در\" + 0.035*\"2\" + 0.032*\"کشته\" + 0.030*\"یک\" + 0.028*\"نفر\" + 0.028*\"3\" + 0.024*\"و\" + 0.023*\"شدن\" + 0.020*\"مرگ\" + 0.017*\"به\"\n",
      "Topic #6: 0.119*\"(فیلم)\" + 0.092*\"در\" + 0.050*\"با\" + 0.042*\"ایرانی\" + 0.032*\"حضور\" + 0.023*\"و\" + 0.022*\"روی\" + 0.019*\"جهانی\" + 0.018*\"آزاد\" + 0.017*\"انتخاب\"\n",
      "Topic #18: 0.066*\"به\" + 0.059*\"روحانی\" + 0.051*\"و\" + 0.035*\"برای\" + 0.031*\"از\" + 0.031*\"راه\" + 0.020*\"دولت\" + 0.018*\"دختر\" + 0.015*\"کمک\" + 0.013*\"رسید\"\n",
      "Topic #16: 0.051*\"شد\" + 0.038*\"می‌شود\" + 0.037*\"ملی\" + 0.031*\"و\" + 0.030*\"از\" + 0.029*\"تیم\" + 0.025*\"بانک\" + 0.023*\"مدارس\" + 0.022*\"ایران\" + 0.020*\"به\"\n"
     ]
    }
   ],
   "source": [
    "# Tokenize the documents\n",
    "tokenized_docs = [doc.split() for doc in df['title'].values.tolist()]\n",
    "\n",
    "# Create a dictionary from the tokenized documents\n",
    "dictionary = corpora.Dictionary(tokenized_docs)\n",
    "\n",
    "# Convert tokenized documents to vectors\n",
    "corpus = [dictionary.doc2bow(doc) for doc in tokenized_docs]\n",
    "\n",
    "# Train the LDA model\n",
    "lda_model = gensim.models.LdaModel(corpus=corpus, id2word=dictionary, num_topics=len(set(df.subgroup.values.tolist())))\n",
    "\n",
    "# Print the topics and their keywords\n",
    "for idx, topic in lda_model.print_topics():\n",
    "    print(f\"Topic #{idx}: {topic}\")"
   ]
  },
  {
   "cell_type": "code",
   "execution_count": 48,
   "metadata": {},
   "outputs": [
    {
     "name": "stdout",
     "output_type": "stream",
     "text": [
      "[(1, 0.20751636), (6, 0.17408597), (18, 0.47346118)]\n",
      "فناوری و IT\n"
     ]
    }
   ],
   "source": [
    "# Get topic distribution for a document\n",
    "new_doc = 'سناتور جمهوری‌خواه؛ آزادسازی پول به ازای آزادی زندانیان دوتابعیتی \"بدعتی خطرناک\" است'\n",
    "new_doc_bow = dictionary.doc2bow(new_doc.split())\n",
    "print(lda_model.get_document_topics(new_doc_bow))\n",
    "max_value = max(lda_model.get_document_topics(new_doc_bow), key=lambda x: x[1])\n",
    "key_of_max_value = max_value[0]\n",
    "\n",
    "print(topics[key_of_max_value])"
   ]
  },
  {
   "cell_type": "code",
   "execution_count": 52,
   "metadata": {},
   "outputs": [
    {
     "name": "stdout",
     "output_type": "stream",
     "text": [
      "[(0, 0.311741), (5, 0.19967918), (8, 0.18012409), (15, 0.21666466)]\n",
      "آشپزی\n"
     ]
    }
   ],
   "source": [
    "# Get topic distribution for a document\n",
    "new_doc = 'مسابقه شهراورد بین استقلال و پرسپولیس با نتیجه 1-0 تموم شد'\n",
    "new_doc_bow = dictionary.doc2bow(new_doc.split())\n",
    "print(lda_model.get_document_topics(new_doc_bow))\n",
    "max_value = max(lda_model.get_document_topics(new_doc_bow), key=lambda x: x[1])\n",
    "key_of_max_value = max_value[0]\n",
    "\n",
    "print(topics[key_of_max_value])"
   ]
  },
  {
   "cell_type": "code",
   "execution_count": 56,
   "metadata": {},
   "outputs": [
    {
     "name": "stdout",
     "output_type": "stream",
     "text": [
      "[(0, 0.09515898), (2, 0.20153679), (7, 0.09925712), (8, 0.098363295), (13, 0.32913595), (16, 0.109344326)]\n",
      "سیاست خارجی\n"
     ]
    }
   ],
   "source": [
    "# Get topic distribution for a document\n",
    "new_doc = 'بیماری های قلبی ریوی با گسترش آلودگی هوا زیاد شده است'\n",
    "new_doc_bow = dictionary.doc2bow(new_doc.split())\n",
    "print(lda_model.get_document_topics(new_doc_bow))\n",
    "max_value = max(lda_model.get_document_topics(new_doc_bow), key=lambda x: x[1])\n",
    "key_of_max_value = max_value[0]\n",
    "\n",
    "print(topics[key_of_max_value])"
   ]
  },
  {
   "cell_type": "code",
   "execution_count": 62,
   "metadata": {},
   "outputs": [
    {
     "name": "stdout",
     "output_type": "stream",
     "text": [
      "[(0, 0.120881155), (1, 0.06719072), (2, 0.1244024), (3, 0.03622929), (6, 0.053856175), (7, 0.10258916), (8, 0.03116266), (9, 0.04548442), (10, 0.037172146), (11, 0.1725782), (13, 0.16241972), (15, 0.033103935)]\n",
      "سفر و تفریح\n"
     ]
    }
   ],
   "source": [
    "# Get topic distribution for a document\n",
    "new_doc = 'خبرگزاری تسنیم وابسته به سپاه پاسداران جمهوری اسلامی ایران گزارش داد که طالبان عکاس و تدوین‌گر این خبرگزاری را در میدان هوایی کابل بازداشت کرده است. به گزارش تسنیم، محمدحسین ولایتی ۱۰ روز در کابل حضور داشت و هنگام بازگشت به ایران بازداشت شد'\n",
    "new_doc_bow = dictionary.doc2bow(new_doc.split())\n",
    "print(lda_model.get_document_topics(new_doc_bow))\n",
    "max_value = max(lda_model.get_document_topics(new_doc_bow), key=lambda x: x[1])\n",
    "key_of_max_value = max_value[0]\n",
    "\n",
    "print(topics[key_of_max_value])"
   ]
  },
  {
   "cell_type": "code",
   "execution_count": 65,
   "metadata": {},
   "outputs": [
    {
     "name": "stdout",
     "output_type": "stream",
     "text": [
      "[(6, 0.3955172), (7, 0.12487309), (10, 0.07481547), (13, 0.1930367), (18, 0.0892997), (20, 0.081389114)]\n",
      "خواندنی ها و دیدنی ها\n"
     ]
    }
   ],
   "source": [
    "# Get topic distribution for a document\n",
    "new_doc = 'شرکت «کارگیل»، یک کشتی باری عظیم با دو بادبان نامنعطف ساخته است تا به کاهش مصرف سوخت کشتی‌های باری در بریتانیا کمک می‌کند.'\n",
    "new_doc_bow = dictionary.doc2bow(new_doc.split())\n",
    "print(lda_model.get_document_topics(new_doc_bow))\n",
    "max_value = max(lda_model.get_document_topics(new_doc_bow), key=lambda x: x[1])\n",
    "key_of_max_value = max_value[0]\n",
    "\n",
    "print(topics[key_of_max_value])"
   ]
  },
  {
   "cell_type": "markdown",
   "metadata": {},
   "source": [
    "Multinomial Naive Bayes"
   ]
  },
  {
   "cell_type": "code",
   "execution_count": 49,
   "metadata": {},
   "outputs": [
    {
     "data": {
      "text/html": [
       "<style>#sk-container-id-1 {color: black;background-color: white;}#sk-container-id-1 pre{padding: 0;}#sk-container-id-1 div.sk-toggleable {background-color: white;}#sk-container-id-1 label.sk-toggleable__label {cursor: pointer;display: block;width: 100%;margin-bottom: 0;padding: 0.3em;box-sizing: border-box;text-align: center;}#sk-container-id-1 label.sk-toggleable__label-arrow:before {content: \"▸\";float: left;margin-right: 0.25em;color: #696969;}#sk-container-id-1 label.sk-toggleable__label-arrow:hover:before {color: black;}#sk-container-id-1 div.sk-estimator:hover label.sk-toggleable__label-arrow:before {color: black;}#sk-container-id-1 div.sk-toggleable__content {max-height: 0;max-width: 0;overflow: hidden;text-align: left;background-color: #f0f8ff;}#sk-container-id-1 div.sk-toggleable__content pre {margin: 0.2em;color: black;border-radius: 0.25em;background-color: #f0f8ff;}#sk-container-id-1 input.sk-toggleable__control:checked~div.sk-toggleable__content {max-height: 200px;max-width: 100%;overflow: auto;}#sk-container-id-1 input.sk-toggleable__control:checked~label.sk-toggleable__label-arrow:before {content: \"▾\";}#sk-container-id-1 div.sk-estimator input.sk-toggleable__control:checked~label.sk-toggleable__label {background-color: #d4ebff;}#sk-container-id-1 div.sk-label input.sk-toggleable__control:checked~label.sk-toggleable__label {background-color: #d4ebff;}#sk-container-id-1 input.sk-hidden--visually {border: 0;clip: rect(1px 1px 1px 1px);clip: rect(1px, 1px, 1px, 1px);height: 1px;margin: -1px;overflow: hidden;padding: 0;position: absolute;width: 1px;}#sk-container-id-1 div.sk-estimator {font-family: monospace;background-color: #f0f8ff;border: 1px dotted black;border-radius: 0.25em;box-sizing: border-box;margin-bottom: 0.5em;}#sk-container-id-1 div.sk-estimator:hover {background-color: #d4ebff;}#sk-container-id-1 div.sk-parallel-item::after {content: \"\";width: 100%;border-bottom: 1px solid gray;flex-grow: 1;}#sk-container-id-1 div.sk-label:hover label.sk-toggleable__label {background-color: #d4ebff;}#sk-container-id-1 div.sk-serial::before {content: \"\";position: absolute;border-left: 1px solid gray;box-sizing: border-box;top: 0;bottom: 0;left: 50%;z-index: 0;}#sk-container-id-1 div.sk-serial {display: flex;flex-direction: column;align-items: center;background-color: white;padding-right: 0.2em;padding-left: 0.2em;position: relative;}#sk-container-id-1 div.sk-item {position: relative;z-index: 1;}#sk-container-id-1 div.sk-parallel {display: flex;align-items: stretch;justify-content: center;background-color: white;position: relative;}#sk-container-id-1 div.sk-item::before, #sk-container-id-1 div.sk-parallel-item::before {content: \"\";position: absolute;border-left: 1px solid gray;box-sizing: border-box;top: 0;bottom: 0;left: 50%;z-index: -1;}#sk-container-id-1 div.sk-parallel-item {display: flex;flex-direction: column;z-index: 1;position: relative;background-color: white;}#sk-container-id-1 div.sk-parallel-item:first-child::after {align-self: flex-end;width: 50%;}#sk-container-id-1 div.sk-parallel-item:last-child::after {align-self: flex-start;width: 50%;}#sk-container-id-1 div.sk-parallel-item:only-child::after {width: 0;}#sk-container-id-1 div.sk-dashed-wrapped {border: 1px dashed gray;margin: 0 0.4em 0.5em 0.4em;box-sizing: border-box;padding-bottom: 0.4em;background-color: white;}#sk-container-id-1 div.sk-label label {font-family: monospace;font-weight: bold;display: inline-block;line-height: 1.2em;}#sk-container-id-1 div.sk-label-container {text-align: center;}#sk-container-id-1 div.sk-container {/* jupyter's `normalize.less` sets `[hidden] { display: none; }` but bootstrap.min.css set `[hidden] { display: none !important; }` so we also need the `!important` here to be able to override the default hidden behavior on the sphinx rendered scikit-learn.org. See: https://github.com/scikit-learn/scikit-learn/issues/21755 */display: inline-block !important;position: relative;}#sk-container-id-1 div.sk-text-repr-fallback {display: none;}</style><div id=\"sk-container-id-1\" class=\"sk-top-container\"><div class=\"sk-text-repr-fallback\"><pre>MultinomialNB()</pre><b>In a Jupyter environment, please rerun this cell to show the HTML representation or trust the notebook. <br />On GitHub, the HTML representation is unable to render, please try loading this page with nbviewer.org.</b></div><div class=\"sk-container\" hidden><div class=\"sk-item\"><div class=\"sk-estimator sk-toggleable\"><input class=\"sk-toggleable__control sk-hidden--visually\" id=\"sk-estimator-id-1\" type=\"checkbox\" checked><label for=\"sk-estimator-id-1\" class=\"sk-toggleable__label sk-toggleable__label-arrow\">MultinomialNB</label><div class=\"sk-toggleable__content\"><pre>MultinomialNB()</pre></div></div></div></div></div>"
      ],
      "text/plain": [
       "MultinomialNB()"
      ]
     },
     "execution_count": 49,
     "metadata": {},
     "output_type": "execute_result"
    }
   ],
   "source": [
    "cv = CountVectorizer()\n",
    "X = cv.fit_transform(df['title'].values)\n",
    "mnb = MultinomialNB()\n",
    "mnb.fit(X, df['subgroup'].values)"
   ]
  },
  {
   "cell_type": "code",
   "execution_count": 50,
   "metadata": {},
   "outputs": [
    {
     "data": {
      "text/plain": [
       "'بین الملل'"
      ]
     },
     "execution_count": 50,
     "metadata": {},
     "output_type": "execute_result"
    }
   ],
   "source": [
    "mnb.predict(cv.transform(['سناتور جمهوری‌خواه؛ آزادسازی پول به ازای آزادی زندانیان دوتابعیتی \"بدعتی خطرناک\" است']))[0]"
   ]
  },
  {
   "cell_type": "code",
   "execution_count": 51,
   "metadata": {},
   "outputs": [
    {
     "data": {
      "text/plain": [
       "'ورزشی'"
      ]
     },
     "execution_count": 51,
     "metadata": {},
     "output_type": "execute_result"
    }
   ],
   "source": [
    "mnb.predict(cv.transform(['مسابقه شهراورد بین استقلال و پرسپولیس با نتیجه 1-0 تموم شد']))[0]"
   ]
  },
  {
   "cell_type": "code",
   "execution_count": 55,
   "metadata": {},
   "outputs": [
    {
     "data": {
      "text/plain": [
       "'سلامت'"
      ]
     },
     "execution_count": 55,
     "metadata": {},
     "output_type": "execute_result"
    }
   ],
   "source": [
    "mnb.predict(cv.transform(['بیماری های قلبی ریوی با گسترش آلودگی هوا زیاد شده است']))[0]"
   ]
  },
  {
   "cell_type": "code",
   "execution_count": 63,
   "metadata": {},
   "outputs": [
    {
     "data": {
      "text/plain": [
       "'سیاسی'"
      ]
     },
     "execution_count": 63,
     "metadata": {},
     "output_type": "execute_result"
    }
   ],
   "source": [
    "mnb.predict(cv.transform(['خبرگزاری تسنیم وابسته به سپاه پاسداران جمهوری اسلامی ایران گزارش داد که طالبان عکاس و تدوین‌گر این خبرگزاری را در میدان هوایی کابل بازداشت کرده است. به گزارش تسنیم، محمدحسین ولایتی ۱۰ روز در کابل حضور داشت و هنگام بازگشت به ایران بازداشت شد. ']))[0]"
   ]
  },
  {
   "cell_type": "code",
   "execution_count": 64,
   "metadata": {},
   "outputs": [
    {
     "data": {
      "text/plain": [
       "'بین الملل'"
      ]
     },
     "execution_count": 64,
     "metadata": {},
     "output_type": "execute_result"
    }
   ],
   "source": [
    "mnb.predict(cv.transform(['شرکت «کارگیل»، یک کشتی باری عظیم با دو بادبان نامنعطف ساخته است تا به کاهش مصرف سوخت کشتی‌های باری در بریتانیا کمک می‌کند.']))[0]"
   ]
  },
  {
   "cell_type": "markdown",
   "metadata": {},
   "source": [
    "Until now Naive Bayes has better accuracy and performance"
   ]
  },
  {
   "cell_type": "code",
   "execution_count": null,
   "metadata": {},
   "outputs": [],
   "source": []
  },
  {
   "cell_type": "markdown",
   "metadata": {},
   "source": [
    "Deep learning (Comming soon...)"
   ]
  },
  {
   "cell_type": "markdown",
   "metadata": {},
   "source": [
    "1-BILSTM\n",
    "\n",
    "2-BERTopic"
   ]
  }
 ],
 "metadata": {
  "kernelspec": {
   "display_name": "base",
   "language": "python",
   "name": "python3"
  },
  "language_info": {
   "codemirror_mode": {
    "name": "ipython",
    "version": 3
   },
   "file_extension": ".py",
   "mimetype": "text/x-python",
   "name": "python",
   "nbconvert_exporter": "python",
   "pygments_lexer": "ipython3",
   "version": "3.11.3"
  },
  "orig_nbformat": 4
 },
 "nbformat": 4,
 "nbformat_minor": 2
}
